{
 "cells": [
  {
   "cell_type": "markdown",
   "metadata": {},
   "source": [
    "# 6  基于MindSpore实现一维线性回归"
   ]
  },
  {
   "cell_type": "markdown",
   "metadata": {},
   "source": [
    "本实验主要介绍使用MindSpore实现一维线性回归，并使用自定义数据集进行测试。"
   ]
  },
  {
   "cell_type": "markdown",
   "metadata": {},
   "source": [
    "# 1 实验目的\n",
    "- 掌握一维线性回归原理\n",
    "- 了解如何使用MindSpore进行一维线性回归模型的开发\n",
    "- 了解如何使用一维线性回归模型对数据进行拟合"
   ]
  },
  {
   "cell_type": "markdown",
   "metadata": {},
   "source": [
    "# 2 一维线性回归模型知识点介绍\n",
    "回归是基于已有数据对新的数据的进行预测，根据历史信息预测当前信息。  \n",
    "<img src=\"Figures/fig_003.png\" width=\"40%\" >  \n",
    "一维线性回归适用于自变量 $x$ 和因变量 $y$ 之间存在线性关系的数据集，可以使用一条直线来拟合数据，使数据集中所有数据点到拟合直线的距离最小。\n",
    "在一维线性回归中，因变量与自变量呈线性关系：  \n",
    "$$\n",
    "y = w \\cdot x + b\n",
    "$$  \n",
    "通过一维线性回归模型寻找到一条合适的直线，最大程度地拟合自变量 $x$ 和因变量 $y$ 之间的关系，这样我们已知一个 $x$ 的值，就可以通过这条拟合直线找到最可能的 $y$ 值。\n",
    "在后续实验过程中，需要借助MindSpore的神经网络模块（mindspore.nn）来实现一维线性回归模型。在深度学习中，我们可以使用神经网络图直观地表示线性结构，假设现在有一个单层神经网络，隐去模型参数权重和偏置之后，如下图所示：\n",
    "\n",
    "![单层神经网络](./Figures/fig_004.png)  \n",
    "图中所示神经网络中，输入分别为x1和x2，因此输入层的输入个数为2。输入个数被称为特征数或特征向量维度。输出为o，输出层的输出个数为1。因此如图所示神经网络实质上是一个二维线性回归模型。如果输入层的输入个数为1，那么实际上是一个一维线性回归模型。  \n",
    "有了以上理论依据，我们在后续实验中可以借助于神经网络模块来实现一维线性回归模型。\n"
   ]
  },
  {
   "cell_type": "markdown",
   "metadata": {},
   "source": [
    "# 3 实验环境\n",
    "在动手进行实践之前，需要注意以下几点：\n",
    "* 确保实验环境正确安装，包括安装MindSpore。安装过程：首先登录[MindSpore官网安装页面](https://www.mindspore.cn/install)，根据安装指南下载安装包及查询相关文档。同时，官网环境安装也可以按下表说明找到对应环境搭建文档链接，根据环境搭建手册配置对应的实验环境。\n",
    "* 推荐使用交互式的计算环境Jupyter Notebook，其交互性强，易于可视化，适合频繁修改的数据分析实验环境。\n",
    "* 实验也可以在华为云一站式的AI开发平台ModelArts上完成。\n",
    "* 推荐实验环境：MindSpore版本=MindSpore 2.4；Python环境=3.11。\n",
    "\n",
    "\n",
    "|  硬件平台 |  操作系统  | 软件环境 | 开发环境 | 环境搭建链接 |\n",
    "| :-----:| :----: | :----: |:----:   |:----:   |\n",
    "| CPU | Windows-x64 | MindSpore2.4 Python3.11 | JupyterNotebook |[MindSpore环境搭建实验手册第二章2.1节和第三章3.1节](./MindSpore环境搭建实验手册.docx)|\n",
    "| GPU |Linux-x86_64| MindSpore2.4 Python3.11 | JupyterNotebook |[MindSpore环境搭建实验手册第二章2.2节和第三章3.1节](./MindSpore环境搭建实验手册.docx)|\n",
    "| Ascend 910  | Linux-x86_64| MindSpore2.4 Python3.11 | JupyterNotebook |[MindSpore环境搭建实验手册第四章](./MindSpore环境搭建实验手册.docx)|MindSpore官网华为开源自研AI框架MindSpore。自动微分、并行加持，一次训练，可多场景部署。支持端边云全场景的深度学习训练推理框架，主要应用于计算机视觉、自然语言处理等AI领域，面向数据科学家、算法工程师等人https://www.mindspore.cn/install"
   ]
  },
  {
   "cell_type": "markdown",
   "metadata": {},
   "source": [
    "# 4 数据处理\n",
    "## 4.1 数据准备\n",
    "调用numpy接口随机生成自变量 $x$, 根据自定义函数加入随机噪声后生成因变量 $y$, 数据形式如下所示：  \n",
    "$$\n",
    "[<x_1, y_1>, <x_2,y_2>, \\dots ,<x_n,y_n>] \n",
    "$$"
   ]
  },
  {
   "cell_type": "markdown",
   "metadata": {},
   "source": [
    "## 4.2 数据加载\n",
    "使用自定义函数生成实验数据。这里需要拟合的回归模型是 $y = 2x+3$, 为了达到学习效果，人为增加一些噪声进行干扰，部分实验数据如下所示，每个数组数据代表一个数据点的坐标。  \n",
    "  \n",
    "代码如下："
   ]
  },
  {
   "cell_type": "code",
   "execution_count": 1,
   "metadata": {},
   "outputs": [
    {
     "name": "stdout",
     "output_type": "stream",
     "text": [
      "数据集批次： 100\n",
      "dict_keys(['data', 'label'])\n",
      "X: (16, 1)\n",
      "y: (16, 1)\n"
     ]
    }
   ],
   "source": [
    "import numpy as np\n",
    "from mindspore import dataset as ds\n",
    "# 自定义数据生成函数\n",
    "def get_data(num,w=2,b=3):\n",
    "    for data in range(num):\n",
    "        # 在一定范围内随机生成自变量\n",
    "        x=np.random.uniform(-10,10)\n",
    "        # 生成随机噪声\n",
    "        noise=np.random.normal(0,1)\n",
    "        # 加入噪声之后得到因变量\n",
    "        y=x*w+b+noise\n",
    "        # 返回数据\n",
    "        yield np.array([x]).astype(np.float32),np.array([y]).astype(np.float32)\n",
    "\n",
    "# 展示部分数据\n",
    "eval_data = list(get_data(6))\n",
    "x_eval_label,y_eval_label = zip(*eval_data)\n",
    "eval_data\n",
    "\n",
    "# 数据集生成函数\n",
    "def create_dataset(num_data,batch_size=16,repeat_size=1):\n",
    "    input_data = ds.GeneratorDataset(list(get_data(num_data)),column_names=['data','label'])\n",
    "    # 设置数据批次\n",
    "    input_data = input_data.batch(batch_size) \n",
    "    # 设置数据重复次数\n",
    "    input_data = input_data.repeat(repeat_size) \n",
    "    return input_data\n",
    "\n",
    "data_number = 1600         # 数据数量\n",
    "batch_number = 16          # 数据批次\n",
    "repeat_number = 1          # 数据重复次数\n",
    "# 生成数据集\n",
    "ds_train = create_dataset(data_number,batch_number,repeat_number)\n",
    "# 打印数据集批次\n",
    "print('数据集批次：',ds_train.get_dataset_size())\n",
    "# 创建数据集字典\n",
    "dict_datasets = next(ds_train.create_dict_iterator())\n",
    "# 打印数据集信息\n",
    "print(dict_datasets.keys())\n",
    "print('X:',dict_datasets['data'].shape)\n",
    "print('y:',dict_datasets['label'].shape)"
   ]
  },
  {
   "cell_type": "markdown",
   "metadata": {},
   "source": [
    "# 5 模型构建\n",
    "## 5.1 导入必要的MindSpore接口和第三方工具包"
   ]
  },
  {
   "cell_type": "code",
   "execution_count": 2,
   "metadata": {},
   "outputs": [],
   "source": [
    "import numpy as np\n",
    "import matplotlib.pyplot as plt\n",
    "\n",
    "import mindspore \n",
    "from mindspore import dtype as mstype\n",
    "from mindspore import dataset as ds\n",
    "from mindspore import nn, ops, Tensor, Parameter\n",
    "from mindspore.common.initializer import Normal\n",
    "\n",
    "# 设置随机数生成种子 \n",
    "np.random.seed(123)"
   ]
  },
  {
   "cell_type": "markdown",
   "metadata": {},
   "source": [
    "## 5.2 构建一维线性回归模型"
   ]
  },
  {
   "cell_type": "code",
   "execution_count": 3,
   "metadata": {},
   "outputs": [],
   "source": [
    "# 定义一个简单的一维线性回归模型\n",
    "class LinearNet(nn.Cell):\n",
    "    # 定义线性层\n",
    "    def __init__(self):\n",
    "        super(LinearNet,self).__init__()\n",
    "        # 使用全连接层表示一维线性回归模型，初始化权重和偏置\n",
    "        self.fc = nn.Dense(1,1,Normal(0.02),Normal(0.02),has_bias=True) \n",
    "    # 构造函数\n",
    "    def construct(self,x):\n",
    "        x = self.fc(x)\n",
    "        return x"
   ]
  },
  {
   "cell_type": "markdown",
   "metadata": {},
   "source": [
    "## 5.3 定义损失函数、优化器"
   ]
  },
  {
   "cell_type": "code",
   "execution_count": 4,
   "metadata": {},
   "outputs": [
    {
     "name": "stdout",
     "output_type": "stream",
     "text": [
      "Parameter (name=fc.weight, shape=(1, 1), dtype=Float32, requires_grad=True) [[-0.02515898]]\n",
      "Parameter (name=fc.bias, shape=(1,), dtype=Float32, requires_grad=True) [-0.01981865]\n"
     ]
    }
   ],
   "source": [
    "# 一维线性回归模型实例化\n",
    "net = LinearNet()\n",
    "# 定义损失函数\n",
    "loss_fn = nn.MSELoss()\n",
    "# 传入模型的训练参数，以及学习率等参数\n",
    "optimizer = nn.Momentum(net.trainable_params(), learning_rate=0.005, momentum=0.9)\n",
    "# 打印模型中的参数维度形状信息\n",
    "model_params = net.trainable_params()\n",
    "for param in model_params:\n",
    "    print(param, param.asnumpy())"
   ]
  },
  {
   "cell_type": "markdown",
   "metadata": {},
   "source": [
    "# 6.模型训练"
   ]
  },
  {
   "cell_type": "code",
   "execution_count": 5,
   "metadata": {},
   "outputs": [],
   "source": [
    "# 1. Define forward function\n",
    "def forward_fn(data, label):\n",
    "    logits = net(data)\n",
    "    loss = loss_fn(logits, label)\n",
    "    return loss, logits\n",
    "\n",
    "# 2. Get gradient function\n",
    "grad_fn = mindspore.value_and_grad(forward_fn, None, optimizer.parameters, has_aux=True)\n",
    "\n",
    "# 3. Define function of one-step training\n",
    "def train_step(data, label):\n",
    "    (loss, _), grads = grad_fn(data, label)\n",
    "    optimizer(grads)\n",
    "    return loss\n",
    "\n",
    "def train(model, dataset):\n",
    "    size = dataset.get_dataset_size()\n",
    "    model.set_train()\n",
    "    for batch, (data, label) in enumerate(dataset.create_tuple_iterator()):\n",
    "        loss = train_step(data, label)\n",
    "\n",
    "        if batch % 10 == 0:\n",
    "            loss, current = loss.asnumpy(), batch\n",
    "            print(f\"loss: {loss:>7f}  [{current:>3d}/{size:>3d}]\")"
   ]
  },
  {
   "cell_type": "code",
   "execution_count": 6,
   "metadata": {},
   "outputs": [
    {
     "name": "stdout",
     "output_type": "stream",
     "text": [
      "Epoch 1\n",
      "-------------------------------\n",
      "loss: 85.516045  [  0/100]\n",
      "loss: 29.414543  [ 10/100]\n",
      "loss: 4.791322  [ 20/100]\n",
      "loss: 1.469907  [ 30/100]\n",
      "loss: 0.947598  [ 40/100]\n",
      "loss: 1.153743  [ 50/100]\n",
      "loss: 0.906894  [ 60/100]\n",
      "loss: 1.142658  [ 70/100]\n",
      "loss: 0.848051  [ 80/100]\n",
      "loss: 1.001417  [ 90/100]\n",
      "Epoch 2\n",
      "-------------------------------\n",
      "loss: 1.145016  [  0/100]\n",
      "loss: 1.604717  [ 10/100]\n",
      "loss: 0.801152  [ 20/100]\n",
      "loss: 0.943498  [ 30/100]\n",
      "loss: 0.839442  [ 40/100]\n",
      "loss: 1.534065  [ 50/100]\n",
      "loss: 0.379696  [ 60/100]\n",
      "loss: 1.084900  [ 70/100]\n",
      "loss: 2.079396  [ 80/100]\n",
      "loss: 0.777711  [ 90/100]\n",
      "Epoch 3\n",
      "-------------------------------\n",
      "loss: 0.806921  [  0/100]\n",
      "loss: 0.851910  [ 10/100]\n",
      "loss: 1.303602  [ 20/100]\n",
      "loss: 1.162690  [ 30/100]\n",
      "loss: 0.400876  [ 40/100]\n",
      "loss: 1.044193  [ 50/100]\n",
      "loss: 0.764950  [ 60/100]\n",
      "loss: 0.695908  [ 70/100]\n",
      "loss: 0.908591  [ 80/100]\n",
      "loss: 0.580049  [ 90/100]\n",
      "Done!\n"
     ]
    }
   ],
   "source": [
    "epochs = 3\n",
    "for t in range(epochs):\n",
    "    print(f\"Epoch {t+1}\\n-------------------------------\")\n",
    "    train(net, ds_train)\n",
    "print(\"Done!\")"
   ]
  },
  {
   "cell_type": "markdown",
   "metadata": {},
   "source": [
    "# 7. 模型预测"
   ]
  },
  {
   "cell_type": "code",
   "execution_count": 7,
   "metadata": {},
   "outputs": [],
   "source": [
    "# 定义函数画出模型拟合之直线以及真实的数据拟合直线的对比\n",
    "def plot_model_and_datasets(net, eval_data):\n",
    "    # 权重\n",
    "    weight = net.trainable_params()[0]\n",
    "    # 偏置\n",
    "    bias = net.trainable_params()[1]\n",
    "    x = np.arange(-10, 10, 0.1)\n",
    "    y = x * Tensor(weight).asnumpy()[0][0] + Tensor(bias).asnumpy()[0]\n",
    "    x1, y1 = zip(*eval_data)\n",
    "    x_target = x\n",
    "    y_target = x_target * 2 + 3\n",
    "    # 绘制图像\n",
    "    plt.axis([-11, 11, -20, 25])\n",
    "    plt.scatter(x1, y1, color=\"red\", s=5)\n",
    "    plt.plot(x, y, color=\"blue\")\n",
    "    plt.plot(x_target, y_target, color=\"green\")\n",
    "    plt.show()"
   ]
  },
  {
   "cell_type": "code",
   "execution_count": 8,
   "metadata": {},
   "outputs": [
    {
     "data": {
      "image/png": "[encoded data removed]",
      "text/plain": [
       "<Figure size 640x480 with 1 Axes>"
      ]
     },
     "metadata": {},
     "output_type": "display_data"
    },
    {
     "name": "stdout",
     "output_type": "stream",
     "text": [
      "Parameter (name=fc.weight, shape=(1, 1), dtype=Float32, requires_grad=True) [[1.9735498]]\n",
      "Parameter (name=fc.bias, shape=(1,), dtype=Float32, requires_grad=True) [3.0355911]\n"
     ]
    }
   ],
   "source": [
    "# 传入线性回归模型和数据\n",
    "plot_model_and_datasets(net, eval_data)\n",
    "# 打印模型参数和训练结果\n",
    "for net_param in net.trainable_params():\n",
    "    print(net_param, net_param.asnumpy())"
   ]
  }
 ],
 "metadata": {
  "kernelspec": {
   "display_name": "Python 3 (ipykernel)",
   "language": "python",
   "name": "python3"
  },
  "language_info": {
   "codemirror_mode": {
    "name": "ipython",
    "version": 3
   },
   "file_extension": ".py",
   "mimetype": "text/x-python",
   "name": "python",
   "nbconvert_exporter": "python",
   "pygments_lexer": "ipython3",
   "version": "3.11.11"
  },
  "vscode": {
   "interpreter": {
    "hash": "e4ab65fdc43de4932de46c69418c64f6e3769852db39afdc53804a8e5b8ff4a1"
   }
  }
 },
 "nbformat": 4,
 "nbformat_minor": 4
}
