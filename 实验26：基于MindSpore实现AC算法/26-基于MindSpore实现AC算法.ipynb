{
 "cells": [
  {
   "attachments": {},
   "cell_type": "markdown",
   "id": "a2f9a6da",
   "metadata": {},
   "source": [
    "# 26.基于MindSpore实现AC算法"
   ]
  },
  {
   "attachments": {},
   "cell_type": "markdown",
   "id": "f0c388f6",
   "metadata": {},
   "source": [
    "本实验主要介绍使用MindSpore实现(AC)Actor-Critic算法，并使用自定义数据进行测试。"
   ]
  },
  {
   "attachments": {},
   "cell_type": "markdown",
   "id": "2485be66",
   "metadata": {},
   "source": [
    "# 1.实验目的\n",
    "- 理解AC算法原理。\n",
    "- 理解Actor和Critic部分的具体工作流程。\n",
    "- 自定义数据进行训练，根据奖励结果判断学习效果。"
   ]
  },
  {
   "attachments": {},
   "cell_type": "markdown",
   "id": "176b810c",
   "metadata": {},
   "source": [
    "# 2. 算法知识点介绍\n",
    "Actor-Critic 算法合并了以策略为基础的 Policy Gradient和以值为基础的 Q-Learning 两类强化学习算法，该算法中将前者当作 Actor，用来基于概率选择行为。将后者当作 Critic，用来评判 Actor 的行为得分，然后 Actor 又会根据 Critic 的评分修改行为的概率。这使得它既可以在有效的处理连续动作的选取，又可以进行单步更新（PG算法的回合更新降低了学习效率）。\n",
    "\n",
    "下面分别介绍一下 Actor 网络和 Critic 网络这个两个部分。"
   ]
  },
  {
   "attachments": {},
   "cell_type": "markdown",
   "id": "b173cee0",
   "metadata": {},
   "source": [
    "## 2.1 Actor网络\n",
    "Actor网络采用的是基于策略的Policy-Grandient算法。PG算法的损失函数可以表示为 $loss = -E[\\log [\\pi (a|s)]\\cdot \\psi]$, 其中 $\\psi$ 是对某个轨迹的评分，在AC算法中它可以有多种表示方式：  \n",
    "1. 状态价值函数：$V(s)$  \n",
    "2. 动作价值函数：$Q(s,a)$\n",
    "3. TD-error: $r+\\gamma \\cdot Q(s_{t+1}, a_{t+1}) - Q(s_t, a_t)$\n",
    "4. 优势函数：$V(s,a)$\n",
    "5. 总回报：$\\sum r_t$\n",
    "6. 加入基线的总回报：$\\sum r_t -b$  \n",
    "  \n",
    "根据梯度策略算法的定义：策略优化目标函数如以下公式所示：\n",
    "$$\n",
    "L_{\\pi} = \\sum_{a \\in A}{\\log \\pi_{\\theta}(s_t, a_t)(G_{t}^{n} - V(s_t))}\n",
    "$$\n",
    "令 $advantage = G_{t}^{n} - V(s_t)$, 称 advantage 为优势函数。采用n步时序差分法求解时，$G_t$ 可以用公式表示如下：\n",
    "$$\n",
    "G_t = R_{t+1} + \\gamma R_{t+2} + \\cdots + \\gamma^{n-1} R_{t+n} + \\gamma^n V(s_{t+n})\n",
    "$$\n",
    "通过观察可以看出，当n为一个完整的状态序列大小时，该算法与蒙特卡洛算法等价。  \n",
    "    \n",
    "在实际编写代码时，采用TD-error作为评价，同时为了鼓励探索(exploration), 在损失函数中还加入了交叉熵损失。  \n"
   ]
  },
  {
   "attachments": {},
   "cell_type": "markdown",
   "id": "cc577aa9",
   "metadata": {},
   "source": [
    "## 2.2 Critic网络\n",
    "Critic网络采用的是基于值函数的Q-Learning算法，采用 $loss = (TD_{error})^2$ 作为Critic网络的损失函数。  \n",
    "整个Actor-Critic算法流程如下图所示：  \n",
    "  \n",
    "![AC算法流程图](Figures/fig_001.png)  \n"
   ]
  },
  {
   "attachments": {},
   "cell_type": "markdown",
   "id": "13d83f94",
   "metadata": {},
   "source": [
    "Actor-Critic算法流程：  \n",
    "准备：评价网络学习率 $\\alpha_1$ 和策略网络的学习率 $\\alpha_2$;\n",
    "1. 随机初始化评价网络参数 $\\theta_q$ 和策略网络参数 $\\theta_{\\pi}$;\n",
    "2. 重复以下操作至最大次数：\n",
    "3. 智能体与环境交互n步并收集由状态、动作、奖励构成的序列$\\{s_0, a_0, r_1, s_1, a_1, r_2,\\cdots \\}$;  \n",
    "4. 计算Critic网络的损失值 $L_i^{critic} = L_{critic}(s, r)$;  \n",
    "5. 计算Actor网络的损失值 $L_{actor}^i = L_{actor}(s, a, advantage)$;  \n",
    "6. 更新Critic网络参数 $\\theta_q \\leftarrow \\theta_q - \\alpha_1 \\nabla_{\\theta}\\sum_{i}L^{i}_{critic}$;    \n",
    "7. 更新Actor网络参数 $\\theta_{\\pi} \\leftarrow  \\theta_{\\pi} - \\alpha_2 \\nabla_{\\pi}\\sum_{i}L^{i}_{Actor}$;   \n",
    "8. 结束。"
   ]
  },
  {
   "attachments": {},
   "cell_type": "markdown",
   "id": "38725b96",
   "metadata": {},
   "source": [
    "\n",
    "## 2.3 算法评价\n",
    "- 优点：可以进行单步更新，不需要跑完一个episode再更新网络参数，相较于传统的PG（Policy Gradient）更新更快。传统PG方法对于价值的估计虽然是无偏估计，但方差较大，AC方法允许少量偏差，但是能够有效降低方差。\n",
    "- 缺点：Actor的行为取决于Critic的Value，但是因为Critic本身就很难收敛，与Actor结合后收敛难度会更大。\n",
    "\n"
   ]
  },
  {
   "attachments": {},
   "cell_type": "markdown",
   "id": "c2dd4446",
   "metadata": {},
   "source": [
    "## 2.4 gym平台介绍\n",
    "本实验借助了gym平台的环境，该平台由 openai 公司开发，且提供了一整套与平台中虚拟环境进行交互的 api接口，gym 的推出为强化学习算法的研究提供了更好地基准测试平台，同时将各类 环境标准化，使研究员可以专注于算法研究而无需花过多的时间在环境的模拟上。gym 提供一个 step 函数供智能体与环境进行交互，其参数为动作，主要返回值及含义分别为：  \n",
    "- observation：表示智能体所处环境的当前状态，代表着智能体的观察值，例如棋盘上棋子的状态。\n",
    "- reward：表示智能体采取操作后从环境中获得的奖励，其类型可能是整数、小数等，但是具体的规模和类型与具体的规模和类型与环境有关，但是智能体的总目标仍然是获取最大的奖励值。\n",
    "- done: 大多数任务都属于阶段性任务，当到达一定条件的时候表示任务已经结束，比如五子棋游戏中的一方五子相连，机器人在路面上摔倒，或者在规定的步数以内没有完成任务，则都代表任务结束。所以 done 是一个判断条件，类型为布尔值，代表当前任务是否结束，如果结束则可以选择使用 reset 函数重置当前任务。"
   ]
  },
  {
   "attachments": {},
   "cell_type": "markdown",
   "id": "3ed9536e",
   "metadata": {},
   "source": [
    "# 3. 实验环境\n",
    "在动手进行实践之前，需要注意以下几点：\n",
    "* 确保实验环境正确安装，包括安装MindSpore。安装过程：首先登录[MindSpore官网安装页面](https://www.mindspore.cn/install)，根据安装指南下载安装包及查询相关文档。同时，官网环境安装也可以按下表说明找到对应环境搭建文档链接，根据环境搭建手册配置对应的实验环境。\n",
    "* 推荐使用交互式的计算环境Jupyter Notebook，其交互性强，易于可视化，适合频繁修改的数据分析实验环境。\n",
    "* 实验也可以在华为云一站式的AI开发平台ModelArts上完成。\n",
    "* 推荐实验环境：MindSpore版本=2.0；Python环境=3.7\n",
    "\n",
    "\n",
    "|  硬件平台 |  操作系统  |          软件环境           | 开发环境 | 环境搭建链接 |\n",
    "| :-----:| :----: |:-----------------------:|:----:   |:----:   |\n",
    "| CPU | Windows-x64 | MindSpore2.4 Python3.11 | JupyterNotebook |[MindSpore环境搭建实验手册第二章2.1节和第三章3.1节](./MindSpore环境搭建实验手册.docx)|\n",
    "| Ascend 910  | Linux-x86_64| MindSpore2.4 Python3.11 | JupyterNotebook |[MindSpore环境搭建实验手册第四章](./MindSpore环境搭建实验手册.docx)|"
   ]
  },
  {
   "attachments": {},
   "cell_type": "markdown",
   "id": "847feec8",
   "metadata": {},
   "source": [
    "# 4 数据处理\n",
    "本实验采用Open Gym中的CartPole-v1环境，实际参考了论文：[Neuronlike Adaptive Elements That Can Solve Difficult Learning Control Problem](https://ieeexplore.ieee.org/document/6313077).中的倒立摆控制问题。  \n",
    "\n",
    "\n",
    "## 4.1 数据准备  \n",
    "  \n",
    "CartPole即车杆游戏，游戏模型如下图所示。游戏里面有一个小车，上面竖着一根杆子，每次重置后的初始状态会有所不同。小车需要左右移动来保持杆子竖直，为了保证游戏继续运行需要满足以下两个条件：    \n",
    "  \n",
    "<img src=\"./Figures/fig_002.png\" width=\"40%\">\n",
    "  \n",
    "- 杆子的倾斜角 $\\theta$ 不能大于15°;  \n",
    "- 小车的移动范围 $x$ 需要保持在一定范围（中间到两边各2.4个长度单位）;\n",
    "  \n",
    "动作（action）：\n",
    "- 左移（0）;\n",
    "- 右移（1）;  \n",
    "  \n",
    "状态变量（state variables）:\n",
    "- x: 小车在轨道上的位置（position of the cart on the track）;\n",
    "- $\\theta$: 杆子与竖直方向的夹角（angle of the pole with the vertical）;\n",
    "- $\\dot{x}$: 小车速度（cart velocity）;\n",
    "- $\\dot{\\theta}$: 角度变化率（rate of change of the angle）;\n",
    "\n",
    "## 4.2 数据加载"
   ]
  },
  {
   "attachments": {},
   "cell_type": "markdown",
   "id": "05493fad",
   "metadata": {},
   "source": [
    "通过导入gym库加载CartPole-v1游戏场景，在gym的CartPole环境中，小车执行左移或右移的action后，env会返回一个+1的reward。本实验使用的CartPole-v1在达到500个reward后，游戏会结束。加载车杆游戏代码如下所示："
   ]
  },
  {
   "cell_type": "code",
   "id": "6a446112",
   "metadata": {
    "ExecuteTime": {
     "end_time": "2025-01-13T05:06:32.121580Z",
     "start_time": "2025-01-13T05:06:32.117342Z"
    }
   },
   "source": [
    "# gym强化学习库, gym版本为0.21.0\n",
    "import gym\n",
    "# 加载车杆游戏场景\n",
    "env=gym.make('CartPole-v1')\n",
    "# 获取状态数\n",
    "state_number=env.observation_space.shape[0]\n",
    "# 获取动作数\n",
    "action_number=env.action_space.n"
   ],
   "outputs": [],
   "execution_count": 4
  },
  {
   "attachments": {},
   "cell_type": "markdown",
   "id": "c4639eaa",
   "metadata": {},
   "source": [
    "# 5.算法实现\n",
    "使用MindSpore实现AC算法并进行训练。\n",
    "## 5.1 导入Python库并配置运行信息"
   ]
  },
  {
   "cell_type": "code",
   "id": "7bdcf2ca",
   "metadata": {
    "ExecuteTime": {
     "end_time": "2025-01-13T05:06:34.985089Z",
     "start_time": "2025-01-13T05:06:34.243767Z"
    }
   },
   "source": [
    "# os库\n",
    "import os\n",
    "# 引入MindSpore\n",
    "import mindspore\n",
    "# 引入神经网络模块\n",
    "import mindspore.nn as nn\n",
    "# 常见算子操作\n",
    "import mindspore.ops as F\n",
    "# 引入numpy\n",
    "import numpy as np\n",
    "# 引入张量模块\n",
    "from mindspore import Tensor\n",
    "# 配置静态库\n",
    "os.environ['KMP_DUPLICATE_LIB_OK'] = 'TRUE'"
   ],
   "outputs": [
    {
     "ename": "ImportError",
     "evalue": "cannot import name 'broadcast_to' from 'numpy.lib.stride_tricks' (C:\\Users\\11247\\miniconda3\\envs\\mindspore\\Lib\\site-packages\\numpy\\lib\\stride_tricks.py)",
     "output_type": "error",
     "traceback": [
      "\u001B[1;31m---------------------------------------------------------------------------\u001B[0m",
      "\u001B[1;31mImportError\u001B[0m                               Traceback (most recent call last)",
      "Cell \u001B[1;32mIn[5], line 4\u001B[0m\n\u001B[0;32m      2\u001B[0m \u001B[38;5;28;01mimport\u001B[39;00m \u001B[38;5;21;01mos\u001B[39;00m\n\u001B[0;32m      3\u001B[0m \u001B[38;5;66;03m# 引入MindSpore\u001B[39;00m\n\u001B[1;32m----> 4\u001B[0m \u001B[38;5;28;01mimport\u001B[39;00m \u001B[38;5;21;01mmindspore\u001B[39;00m\n\u001B[0;32m      5\u001B[0m \u001B[38;5;66;03m# 引入神经网络模块\u001B[39;00m\n\u001B[0;32m      6\u001B[0m \u001B[38;5;28;01mimport\u001B[39;00m \u001B[38;5;21;01mmindspore\u001B[39;00m\u001B[38;5;21;01m.\u001B[39;00m\u001B[38;5;21;01mnn\u001B[39;00m \u001B[38;5;28;01mas\u001B[39;00m \u001B[38;5;21;01mnn\u001B[39;00m\n",
      "File \u001B[1;32m~\\miniconda3\\envs\\mindspore\\Lib\\site-packages\\mindspore\\__init__.py:19\u001B[0m\n\u001B[0;32m     16\u001B[0m \u001B[38;5;28;01mfrom\u001B[39;00m \u001B[38;5;21;01m__future__\u001B[39;00m \u001B[38;5;28;01mimport\u001B[39;00m absolute_import\n\u001B[0;32m     18\u001B[0m \u001B[38;5;28;01mfrom\u001B[39;00m \u001B[38;5;21;01mmindspore\u001B[39;00m\u001B[38;5;21;01m.\u001B[39;00m\u001B[38;5;21;01mrun_check\u001B[39;00m \u001B[38;5;28;01mimport\u001B[39;00m run_check\n\u001B[1;32m---> 19\u001B[0m \u001B[38;5;28;01mfrom\u001B[39;00m \u001B[38;5;21;01mmindspore\u001B[39;00m \u001B[38;5;28;01mimport\u001B[39;00m common, dataset, mindrecord, train, log, amp\n\u001B[0;32m     20\u001B[0m \u001B[38;5;28;01mfrom\u001B[39;00m \u001B[38;5;21;01mmindspore\u001B[39;00m \u001B[38;5;28;01mimport\u001B[39;00m profiler, communication, numpy, parallel, hal\n\u001B[0;32m     21\u001B[0m \u001B[38;5;28;01mfrom\u001B[39;00m \u001B[38;5;21;01mmindspore\u001B[39;00m\u001B[38;5;21;01m.\u001B[39;00m\u001B[38;5;21;01mcommon\u001B[39;00m \u001B[38;5;28;01mimport\u001B[39;00m \u001B[38;5;241m*\u001B[39m\n",
      "File \u001B[1;32m~\\miniconda3\\envs\\mindspore\\Lib\\site-packages\\mindspore\\common\\__init__.py:34\u001B[0m\n\u001B[0;32m     32\u001B[0m \u001B[38;5;28;01mfrom\u001B[39;00m \u001B[38;5;21;01mmindspore\u001B[39;00m\u001B[38;5;21;01m.\u001B[39;00m\u001B[38;5;21;01mcommon\u001B[39;00m\u001B[38;5;21;01m.\u001B[39;00m\u001B[38;5;21;01mlazy_inline\u001B[39;00m \u001B[38;5;28;01mimport\u001B[39;00m lazy_inline\n\u001B[0;32m     33\u001B[0m \u001B[38;5;28;01mfrom\u001B[39;00m \u001B[38;5;21;01mmindspore\u001B[39;00m\u001B[38;5;21;01m.\u001B[39;00m\u001B[38;5;21;01mcommon\u001B[39;00m\u001B[38;5;21;01m.\u001B[39;00m\u001B[38;5;21;01mno_inline\u001B[39;00m \u001B[38;5;28;01mimport\u001B[39;00m no_inline\n\u001B[1;32m---> 34\u001B[0m \u001B[38;5;28;01mfrom\u001B[39;00m \u001B[38;5;21;01mmindspore\u001B[39;00m\u001B[38;5;21;01m.\u001B[39;00m\u001B[38;5;21;01mcommon\u001B[39;00m\u001B[38;5;21;01m.\u001B[39;00m\u001B[38;5;21;01mmindir_util\u001B[39;00m \u001B[38;5;28;01mimport\u001B[39;00m load_mindir, save_mindir\n\u001B[0;32m     35\u001B[0m \u001B[38;5;28;01mfrom\u001B[39;00m \u001B[38;5;21;01mmindspore\u001B[39;00m\u001B[38;5;21;01m.\u001B[39;00m\u001B[38;5;21;01mcommon\u001B[39;00m\u001B[38;5;21;01m.\u001B[39;00m\u001B[38;5;21;01msymbol\u001B[39;00m \u001B[38;5;28;01mimport\u001B[39;00m Symbol\n\u001B[0;32m     36\u001B[0m \u001B[38;5;28;01mfrom\u001B[39;00m \u001B[38;5;21;01mmindspore\u001B[39;00m\u001B[38;5;21;01m.\u001B[39;00m\u001B[38;5;21;01mcommon\u001B[39;00m\u001B[38;5;21;01m.\u001B[39;00m\u001B[38;5;21;01mrecompute\u001B[39;00m \u001B[38;5;28;01mimport\u001B[39;00m recompute\n",
      "File \u001B[1;32m~\\miniconda3\\envs\\mindspore\\Lib\\site-packages\\mindspore\\common\\mindir_util.py:22\u001B[0m\n\u001B[0;32m     20\u001B[0m \u001B[38;5;28;01mfrom\u001B[39;00m \u001B[38;5;21;01mmindspore\u001B[39;00m \u001B[38;5;28;01mimport\u001B[39;00m log \u001B[38;5;28;01mas\u001B[39;00m logger\n\u001B[0;32m     21\u001B[0m \u001B[38;5;28;01mfrom\u001B[39;00m \u001B[38;5;21;01mmindspore\u001B[39;00m \u001B[38;5;28;01mimport\u001B[39;00m _checkparam \u001B[38;5;28;01mas\u001B[39;00m Validator\n\u001B[1;32m---> 22\u001B[0m \u001B[38;5;28;01mfrom\u001B[39;00m \u001B[38;5;21;01mmindspore\u001B[39;00m\u001B[38;5;21;01m.\u001B[39;00m\u001B[38;5;21;01mtrain\u001B[39;00m\u001B[38;5;21;01m.\u001B[39;00m\u001B[38;5;21;01mmind_ir_pb2\u001B[39;00m \u001B[38;5;28;01mimport\u001B[39;00m ModelProto \u001B[38;5;28;01mas\u001B[39;00m mindir_model\n\u001B[0;32m     25\u001B[0m \u001B[38;5;28;01mdef\u001B[39;00m \u001B[38;5;21mload_mindir\u001B[39m(file_name):\n\u001B[0;32m     26\u001B[0m \u001B[38;5;250m    \u001B[39m\u001B[38;5;124;03m\"\"\"\u001B[39;00m\n\u001B[0;32m     27\u001B[0m \u001B[38;5;124;03m    load protobuf file.\u001B[39;00m\n\u001B[0;32m     28\u001B[0m \n\u001B[1;32m   (...)\u001B[0m\n\u001B[0;32m     43\u001B[0m \u001B[38;5;124;03m        >>> md = ms.load_mindir(\"test.mindir\")\u001B[39;00m\n\u001B[0;32m     44\u001B[0m \u001B[38;5;124;03m    \"\"\"\u001B[39;00m\n",
      "File \u001B[1;32m~\\miniconda3\\envs\\mindspore\\Lib\\site-packages\\mindspore\\train\\__init__.py:22\u001B[0m\n\u001B[0;32m     15\u001B[0m \u001B[38;5;124;03m\"\"\"\u001B[39;00m\n\u001B[0;32m     16\u001B[0m \u001B[38;5;124;03mHigh-Level training interfaces.\u001B[39;00m\n\u001B[0;32m     17\u001B[0m \n\u001B[0;32m     18\u001B[0m \u001B[38;5;124;03mHelper functions in train pipelines.\u001B[39;00m\n\u001B[0;32m     19\u001B[0m \u001B[38;5;124;03m\"\"\"\u001B[39;00m\n\u001B[0;32m     20\u001B[0m \u001B[38;5;28;01mfrom\u001B[39;00m \u001B[38;5;21;01m__future__\u001B[39;00m \u001B[38;5;28;01mimport\u001B[39;00m absolute_import\n\u001B[1;32m---> 22\u001B[0m \u001B[38;5;28;01mfrom\u001B[39;00m \u001B[38;5;21;01mmindspore\u001B[39;00m\u001B[38;5;21;01m.\u001B[39;00m\u001B[38;5;21;01mtrain\u001B[39;00m\u001B[38;5;21;01m.\u001B[39;00m\u001B[38;5;21;01mmodel\u001B[39;00m \u001B[38;5;28;01mimport\u001B[39;00m Model\n\u001B[0;32m     23\u001B[0m \u001B[38;5;28;01mfrom\u001B[39;00m \u001B[38;5;21;01mmindspore\u001B[39;00m\u001B[38;5;21;01m.\u001B[39;00m\u001B[38;5;21;01mtrain\u001B[39;00m\u001B[38;5;21;01m.\u001B[39;00m\u001B[38;5;21;01mdataset_helper\u001B[39;00m \u001B[38;5;28;01mimport\u001B[39;00m DatasetHelper, connect_network_with_dataset\n\u001B[0;32m     24\u001B[0m \u001B[38;5;28;01mfrom\u001B[39;00m \u001B[38;5;21;01mmindspore\u001B[39;00m\u001B[38;5;21;01m.\u001B[39;00m\u001B[38;5;21;01mtrain\u001B[39;00m \u001B[38;5;28;01mimport\u001B[39;00m amp\n",
      "File \u001B[1;32m~\\miniconda3\\envs\\mindspore\\Lib\\site-packages\\mindspore\\train\\model.py:30\u001B[0m\n\u001B[0;32m     27\u001B[0m \u001B[38;5;28;01mimport\u001B[39;00m \u001B[38;5;21;01mnumpy\u001B[39;00m \u001B[38;5;28;01mas\u001B[39;00m \u001B[38;5;21;01mnp\u001B[39;00m\n\u001B[0;32m     29\u001B[0m \u001B[38;5;28;01mimport\u001B[39;00m \u001B[38;5;21;01mmindspore\u001B[39;00m\n\u001B[1;32m---> 30\u001B[0m \u001B[38;5;28;01mimport\u001B[39;00m \u001B[38;5;21;01mmindspore\u001B[39;00m\u001B[38;5;21;01m.\u001B[39;00m\u001B[38;5;21;01mdataset\u001B[39;00m \u001B[38;5;28;01mas\u001B[39;00m \u001B[38;5;21;01mds\u001B[39;00m\n\u001B[0;32m     31\u001B[0m \u001B[38;5;28;01mfrom\u001B[39;00m \u001B[38;5;21;01mmindspore\u001B[39;00m \u001B[38;5;28;01mimport\u001B[39;00m log \u001B[38;5;28;01mas\u001B[39;00m logger\n\u001B[0;32m     32\u001B[0m \u001B[38;5;28;01mfrom\u001B[39;00m \u001B[38;5;21;01mmindspore\u001B[39;00m\u001B[38;5;21;01m.\u001B[39;00m\u001B[38;5;21;01mtrain\u001B[39;00m\u001B[38;5;21;01m.\u001B[39;00m\u001B[38;5;21;01mserialization\u001B[39;00m \u001B[38;5;28;01mimport\u001B[39;00m save_checkpoint, load_checkpoint\n",
      "File \u001B[1;32m~\\miniconda3\\envs\\mindspore\\Lib\\site-packages\\mindspore\\dataset\\__init__.py:82\u001B[0m\n\u001B[0;32m     14\u001B[0m \u001B[38;5;124;03m\"\"\"\u001B[39;00m\n\u001B[0;32m     15\u001B[0m \u001B[38;5;124;03mThis module provides APIs to load and process various common datasets such as MNIST,\u001B[39;00m\n\u001B[0;32m     16\u001B[0m \u001B[38;5;124;03mCIFAR-10, CIFAR-100, VOC, COCO, ImageNet, CelebA, CLUE, etc. It also supports datasets\u001B[39;00m\n\u001B[1;32m   (...)\u001B[0m\n\u001B[0;32m     78\u001B[0m \n\u001B[0;32m     79\u001B[0m \u001B[38;5;124;03m\"\"\"\u001B[39;00m\n\u001B[0;32m     81\u001B[0m \u001B[38;5;28;01mfrom\u001B[39;00m \u001B[38;5;21;01m.\u001B[39;00m\u001B[38;5;21;01mcore\u001B[39;00m \u001B[38;5;28;01mimport\u001B[39;00m config\n\u001B[1;32m---> 82\u001B[0m \u001B[38;5;28;01mfrom\u001B[39;00m \u001B[38;5;21;01m.\u001B[39;00m\u001B[38;5;21;01mengine\u001B[39;00m \u001B[38;5;28;01mimport\u001B[39;00m \u001B[38;5;241m*\u001B[39m\n\u001B[0;32m     83\u001B[0m \u001B[38;5;28;01mfrom\u001B[39;00m \u001B[38;5;21;01m.\u001B[39;00m\u001B[38;5;21;01mengine\u001B[39;00m\u001B[38;5;21;01m.\u001B[39;00m\u001B[38;5;21;01mcache_client\u001B[39;00m \u001B[38;5;28;01mimport\u001B[39;00m DatasetCache\n\u001B[0;32m     84\u001B[0m \u001B[38;5;28;01mfrom\u001B[39;00m \u001B[38;5;21;01m.\u001B[39;00m\u001B[38;5;21;01mengine\u001B[39;00m\u001B[38;5;21;01m.\u001B[39;00m\u001B[38;5;21;01mdatasets\u001B[39;00m \u001B[38;5;28;01mimport\u001B[39;00m \u001B[38;5;241m*\u001B[39m\n",
      "File \u001B[1;32m~\\miniconda3\\envs\\mindspore\\Lib\\site-packages\\mindspore\\dataset\\engine\\__init__.py:25\u001B[0m\n\u001B[0;32m      1\u001B[0m \u001B[38;5;66;03m# Copyright 2019 Huawei Technologies Co., Ltd\u001B[39;00m\n\u001B[0;32m      2\u001B[0m \u001B[38;5;66;03m#\u001B[39;00m\n\u001B[0;32m      3\u001B[0m \u001B[38;5;66;03m# Licensed under the Apache License, Version 2.0 (the \"License\");\u001B[39;00m\n\u001B[1;32m   (...)\u001B[0m\n\u001B[0;32m     13\u001B[0m \u001B[38;5;66;03m# limitations under the License.\u001B[39;00m\n\u001B[0;32m     14\u001B[0m \u001B[38;5;66;03m# ==============================================================================\u001B[39;00m\n\u001B[0;32m     16\u001B[0m \u001B[38;5;124;03m\"\"\"\u001B[39;00m\n\u001B[0;32m     17\u001B[0m \u001B[38;5;124;03mIntroduction to dataset/engine:\u001B[39;00m\n\u001B[0;32m     18\u001B[0m \n\u001B[1;32m   (...)\u001B[0m\n\u001B[0;32m     22\u001B[0m \u001B[38;5;124;03moperations for users to preprocess data: shuffle, batch, repeat, map, and zip.\u001B[39;00m\n\u001B[0;32m     23\u001B[0m \u001B[38;5;124;03m\"\"\"\u001B[39;00m\n\u001B[1;32m---> 25\u001B[0m \u001B[38;5;28;01mfrom\u001B[39;00m \u001B[38;5;21;01m.\u001B[39;00m\u001B[38;5;21;01m.\u001B[39;00m\u001B[38;5;21;01mcallback\u001B[39;00m \u001B[38;5;28;01mimport\u001B[39;00m DSCallback, WaitedDSCallback\n\u001B[0;32m     26\u001B[0m \u001B[38;5;28;01mfrom\u001B[39;00m \u001B[38;5;21;01m.\u001B[39;00m\u001B[38;5;21;01m.\u001B[39;00m\u001B[38;5;21;01mcore\u001B[39;00m \u001B[38;5;28;01mimport\u001B[39;00m config\n\u001B[0;32m     27\u001B[0m \u001B[38;5;28;01mfrom\u001B[39;00m \u001B[38;5;21;01m.\u001B[39;00m\u001B[38;5;21;01mcache_client\u001B[39;00m \u001B[38;5;28;01mimport\u001B[39;00m DatasetCache\n",
      "File \u001B[1;32m~\\miniconda3\\envs\\mindspore\\Lib\\site-packages\\mindspore\\dataset\\callback\\__init__.py:18\u001B[0m\n\u001B[0;32m     15\u001B[0m \u001B[38;5;124;03m\"\"\"init file for Python callback\"\"\"\u001B[39;00m\n\u001B[0;32m     16\u001B[0m \u001B[38;5;28;01mfrom\u001B[39;00m \u001B[38;5;21;01m__future__\u001B[39;00m \u001B[38;5;28;01mimport\u001B[39;00m absolute_import\n\u001B[1;32m---> 18\u001B[0m \u001B[38;5;28;01mfrom\u001B[39;00m \u001B[38;5;21;01mmindspore\u001B[39;00m\u001B[38;5;21;01m.\u001B[39;00m\u001B[38;5;21;01mdataset\u001B[39;00m\u001B[38;5;21;01m.\u001B[39;00m\u001B[38;5;21;01mcallback\u001B[39;00m\u001B[38;5;21;01m.\u001B[39;00m\u001B[38;5;21;01mds_callback\u001B[39;00m \u001B[38;5;28;01mimport\u001B[39;00m DSCallback, WaitedDSCallback\n\u001B[0;32m     20\u001B[0m __all__ \u001B[38;5;241m=\u001B[39m [\u001B[38;5;124m\"\u001B[39m\u001B[38;5;124mDSCallback\u001B[39m\u001B[38;5;124m\"\u001B[39m, \u001B[38;5;124m\"\u001B[39m\u001B[38;5;124mWaitedDSCallback\u001B[39m\u001B[38;5;124m\"\u001B[39m]\n",
      "File \u001B[1;32m~\\miniconda3\\envs\\mindspore\\Lib\\site-packages\\mindspore\\dataset\\callback\\ds_callback.py:21\u001B[0m\n\u001B[0;32m     18\u001B[0m \u001B[38;5;28;01mimport\u001B[39;00m \u001B[38;5;21;01mthreading\u001B[39;00m\n\u001B[0;32m     20\u001B[0m \u001B[38;5;28;01mfrom\u001B[39;00m \u001B[38;5;21;01mmindspore\u001B[39;00m\u001B[38;5;21;01m.\u001B[39;00m\u001B[38;5;21;01m_c_dataengine\u001B[39;00m \u001B[38;5;28;01mimport\u001B[39;00m PyDSCallback\n\u001B[1;32m---> 21\u001B[0m \u001B[38;5;28;01mfrom\u001B[39;00m \u001B[38;5;21;01mmindspore\u001B[39;00m\u001B[38;5;21;01m.\u001B[39;00m\u001B[38;5;21;01mtrain\u001B[39;00m\u001B[38;5;21;01m.\u001B[39;00m\u001B[38;5;21;01mcallback\u001B[39;00m \u001B[38;5;28;01mimport\u001B[39;00m Callback\n\u001B[0;32m     22\u001B[0m \u001B[38;5;28;01mimport\u001B[39;00m \u001B[38;5;21;01mmindspore\u001B[39;00m\u001B[38;5;21;01m.\u001B[39;00m\u001B[38;5;21;01mdataset\u001B[39;00m \u001B[38;5;28;01mas\u001B[39;00m \u001B[38;5;21;01mds\u001B[39;00m\n\u001B[0;32m     23\u001B[0m \u001B[38;5;28;01mfrom\u001B[39;00m \u001B[38;5;21;01mmindspore\u001B[39;00m\u001B[38;5;21;01m.\u001B[39;00m\u001B[38;5;21;01mdataset\u001B[39;00m\u001B[38;5;21;01m.\u001B[39;00m\u001B[38;5;21;01mcallback\u001B[39;00m\u001B[38;5;21;01m.\u001B[39;00m\u001B[38;5;21;01mvalidators\u001B[39;00m \u001B[38;5;28;01mimport\u001B[39;00m check_callback\n",
      "File \u001B[1;32m~\\miniconda3\\envs\\mindspore\\Lib\\site-packages\\mindspore\\train\\callback\\__init__.py:18\u001B[0m\n\u001B[0;32m     15\u001B[0m \u001B[38;5;124;03m\"\"\"Callback related classes and functions.\"\"\"\u001B[39;00m\n\u001B[0;32m     16\u001B[0m \u001B[38;5;28;01mfrom\u001B[39;00m \u001B[38;5;21;01m__future__\u001B[39;00m \u001B[38;5;28;01mimport\u001B[39;00m absolute_import\n\u001B[1;32m---> 18\u001B[0m \u001B[38;5;28;01mfrom\u001B[39;00m \u001B[38;5;21;01mmindspore\u001B[39;00m\u001B[38;5;21;01m.\u001B[39;00m\u001B[38;5;21;01mtrain\u001B[39;00m\u001B[38;5;21;01m.\u001B[39;00m\u001B[38;5;21;01mcallback\u001B[39;00m\u001B[38;5;21;01m.\u001B[39;00m\u001B[38;5;21;01m_callback\u001B[39;00m \u001B[38;5;28;01mimport\u001B[39;00m Callback\n\u001B[0;32m     19\u001B[0m \u001B[38;5;28;01mfrom\u001B[39;00m \u001B[38;5;21;01mmindspore\u001B[39;00m\u001B[38;5;21;01m.\u001B[39;00m\u001B[38;5;21;01mtrain\u001B[39;00m\u001B[38;5;21;01m.\u001B[39;00m\u001B[38;5;21;01mcallback\u001B[39;00m\u001B[38;5;21;01m.\u001B[39;00m\u001B[38;5;21;01m_callback\u001B[39;00m \u001B[38;5;28;01mimport\u001B[39;00m CallbackManager \u001B[38;5;28;01mas\u001B[39;00m _CallbackManager\n\u001B[0;32m     20\u001B[0m \u001B[38;5;28;01mfrom\u001B[39;00m \u001B[38;5;21;01mmindspore\u001B[39;00m\u001B[38;5;21;01m.\u001B[39;00m\u001B[38;5;21;01mtrain\u001B[39;00m\u001B[38;5;21;01m.\u001B[39;00m\u001B[38;5;21;01mcallback\u001B[39;00m\u001B[38;5;21;01m.\u001B[39;00m\u001B[38;5;21;01m_callback\u001B[39;00m \u001B[38;5;28;01mimport\u001B[39;00m InternalCallbackParam \u001B[38;5;28;01mas\u001B[39;00m _InternalCallbackParam\n",
      "File \u001B[1;32m~\\miniconda3\\envs\\mindspore\\Lib\\site-packages\\mindspore\\train\\callback\\_callback.py:23\u001B[0m\n\u001B[0;32m     21\u001B[0m \u001B[38;5;28;01mfrom\u001B[39;00m \u001B[38;5;21;01mmindspore\u001B[39;00m\u001B[38;5;21;01m.\u001B[39;00m\u001B[38;5;21;01mcommon\u001B[39;00m\u001B[38;5;21;01m.\u001B[39;00m\u001B[38;5;21;01mtensor\u001B[39;00m \u001B[38;5;28;01mimport\u001B[39;00m Tensor\n\u001B[0;32m     22\u001B[0m \u001B[38;5;28;01mfrom\u001B[39;00m \u001B[38;5;21;01mmindspore\u001B[39;00m \u001B[38;5;28;01mimport\u001B[39;00m log \u001B[38;5;28;01mas\u001B[39;00m logger\n\u001B[1;32m---> 23\u001B[0m \u001B[38;5;28;01mfrom\u001B[39;00m \u001B[38;5;21;01mmindspore\u001B[39;00m\u001B[38;5;21;01m.\u001B[39;00m\u001B[38;5;21;01mtrain\u001B[39;00m\u001B[38;5;21;01m.\u001B[39;00m\u001B[38;5;21;01msummary\u001B[39;00m\u001B[38;5;21;01m.\u001B[39;00m\u001B[38;5;21;01msummary_record\u001B[39;00m \u001B[38;5;28;01mimport\u001B[39;00m _cache_summary_tensor_data\n\u001B[0;32m     24\u001B[0m \u001B[38;5;28;01mfrom\u001B[39;00m \u001B[38;5;21;01mmindspore\u001B[39;00m\u001B[38;5;21;01m.\u001B[39;00m\u001B[38;5;21;01mcommon\u001B[39;00m\u001B[38;5;21;01m.\u001B[39;00m\u001B[38;5;21;01mparameter\u001B[39;00m \u001B[38;5;28;01mimport\u001B[39;00m Parameter\n\u001B[0;32m     25\u001B[0m \u001B[38;5;28;01mfrom\u001B[39;00m \u001B[38;5;21;01mmindspore\u001B[39;00m\u001B[38;5;21;01m.\u001B[39;00m\u001B[38;5;21;01mtrain\u001B[39;00m\u001B[38;5;21;01m.\u001B[39;00m\u001B[38;5;21;01mserialization\u001B[39;00m \u001B[38;5;28;01mimport\u001B[39;00m load_param_into_net\n",
      "File \u001B[1;32m~\\miniconda3\\envs\\mindspore\\Lib\\site-packages\\mindspore\\train\\summary\\__init__.py:21\u001B[0m\n\u001B[0;32m     15\u001B[0m \u001B[38;5;124;03m\"\"\"\u001B[39;00m\n\u001B[0;32m     16\u001B[0m \u001B[38;5;124;03mSummary related classes and functions. User can use SummaryRecord to dump the summary data, the summary is a series of\u001B[39;00m\n\u001B[0;32m     17\u001B[0m \u001B[38;5;124;03moperations to collect data for analysis and visualization.\u001B[39;00m\n\u001B[0;32m     18\u001B[0m \u001B[38;5;124;03m\"\"\"\u001B[39;00m\n\u001B[0;32m     19\u001B[0m \u001B[38;5;28;01mfrom\u001B[39;00m \u001B[38;5;21;01m__future__\u001B[39;00m \u001B[38;5;28;01mimport\u001B[39;00m absolute_import\n\u001B[1;32m---> 21\u001B[0m \u001B[38;5;28;01mfrom\u001B[39;00m \u001B[38;5;21;01mmindspore\u001B[39;00m\u001B[38;5;21;01m.\u001B[39;00m\u001B[38;5;21;01mtrain\u001B[39;00m\u001B[38;5;21;01m.\u001B[39;00m\u001B[38;5;21;01msummary\u001B[39;00m\u001B[38;5;21;01m.\u001B[39;00m\u001B[38;5;21;01msummary_record\u001B[39;00m \u001B[38;5;28;01mimport\u001B[39;00m SummaryRecord\n\u001B[0;32m     23\u001B[0m __all__ \u001B[38;5;241m=\u001B[39m [\u001B[38;5;124m\"\u001B[39m\u001B[38;5;124mSummaryRecord\u001B[39m\u001B[38;5;124m\"\u001B[39m]\n",
      "File \u001B[1;32m~\\miniconda3\\envs\\mindspore\\Lib\\site-packages\\mindspore\\train\\summary\\summary_record.py:26\u001B[0m\n\u001B[0;32m     23\u001B[0m \u001B[38;5;28;01mfrom\u001B[39;00m \u001B[38;5;21;01mcollections\u001B[39;00m \u001B[38;5;28;01mimport\u001B[39;00m defaultdict\n\u001B[0;32m     25\u001B[0m \u001B[38;5;28;01mfrom\u001B[39;00m \u001B[38;5;21;01mmindspore\u001B[39;00m \u001B[38;5;28;01mimport\u001B[39;00m log \u001B[38;5;28;01mas\u001B[39;00m logger\n\u001B[1;32m---> 26\u001B[0m \u001B[38;5;28;01mfrom\u001B[39;00m \u001B[38;5;21;01mmindspore\u001B[39;00m\u001B[38;5;21;01m.\u001B[39;00m\u001B[38;5;21;01mnn\u001B[39;00m \u001B[38;5;28;01mimport\u001B[39;00m Cell\n\u001B[0;32m     27\u001B[0m \u001B[38;5;28;01mfrom\u001B[39;00m \u001B[38;5;21;01mmindspore\u001B[39;00m \u001B[38;5;28;01mimport\u001B[39;00m context\n\u001B[0;32m     28\u001B[0m \u001B[38;5;28;01mfrom\u001B[39;00m \u001B[38;5;21;01mmindspore\u001B[39;00m\u001B[38;5;21;01m.\u001B[39;00m\u001B[38;5;21;01m_c_expression\u001B[39;00m \u001B[38;5;28;01mimport\u001B[39;00m security\n",
      "File \u001B[1;32m~\\miniconda3\\envs\\mindspore\\Lib\\site-packages\\mindspore\\nn\\__init__.py:22\u001B[0m\n\u001B[0;32m     15\u001B[0m \u001B[38;5;124;03m\"\"\"\u001B[39;00m\n\u001B[0;32m     16\u001B[0m \u001B[38;5;124;03mNeural Networks Cells.\u001B[39;00m\n\u001B[0;32m     17\u001B[0m \n\u001B[0;32m     18\u001B[0m \u001B[38;5;124;03mPre-defined building blocks or computing units to construct neural networks.\u001B[39;00m\n\u001B[0;32m     19\u001B[0m \u001B[38;5;124;03m\"\"\"\u001B[39;00m\n\u001B[0;32m     20\u001B[0m \u001B[38;5;28;01mfrom\u001B[39;00m \u001B[38;5;21;01m__future__\u001B[39;00m \u001B[38;5;28;01mimport\u001B[39;00m absolute_import\n\u001B[1;32m---> 22\u001B[0m \u001B[38;5;28;01mfrom\u001B[39;00m \u001B[38;5;21;01mmindspore\u001B[39;00m\u001B[38;5;21;01m.\u001B[39;00m\u001B[38;5;21;01mnn\u001B[39;00m \u001B[38;5;28;01mimport\u001B[39;00m layer, loss, optim, wrap, grad, metrics, probability, sparse, dynamic_lr, reinforcement\n\u001B[0;32m     23\u001B[0m \u001B[38;5;28;01mfrom\u001B[39;00m \u001B[38;5;21;01mmindspore\u001B[39;00m\u001B[38;5;21;01m.\u001B[39;00m\u001B[38;5;21;01mnn\u001B[39;00m\u001B[38;5;21;01m.\u001B[39;00m\u001B[38;5;21;01mlearning_rate_schedule\u001B[39;00m \u001B[38;5;28;01mimport\u001B[39;00m \u001B[38;5;241m*\u001B[39m\n\u001B[0;32m     24\u001B[0m \u001B[38;5;28;01mfrom\u001B[39;00m \u001B[38;5;21;01mmindspore\u001B[39;00m\u001B[38;5;21;01m.\u001B[39;00m\u001B[38;5;21;01mnn\u001B[39;00m\u001B[38;5;21;01m.\u001B[39;00m\u001B[38;5;21;01mdynamic_lr\u001B[39;00m \u001B[38;5;28;01mimport\u001B[39;00m \u001B[38;5;241m*\u001B[39m\n",
      "File \u001B[1;32m~\\miniconda3\\envs\\mindspore\\Lib\\site-packages\\mindspore\\nn\\metrics.py:19\u001B[0m\n\u001B[0;32m      1\u001B[0m \u001B[38;5;66;03m# Copyright 2020 Huawei Technologies Co., Ltd\u001B[39;00m\n\u001B[0;32m      2\u001B[0m \u001B[38;5;66;03m#\u001B[39;00m\n\u001B[0;32m      3\u001B[0m \u001B[38;5;66;03m# Licensed under the Apache License, Version 2.0 (the \"License\");\u001B[39;00m\n\u001B[1;32m   (...)\u001B[0m\n\u001B[0;32m     13\u001B[0m \u001B[38;5;66;03m# limitations under the License.\u001B[39;00m\n\u001B[0;32m     14\u001B[0m \u001B[38;5;66;03m# ============================================================================\u001B[39;00m\n\u001B[0;32m     15\u001B[0m \u001B[38;5;124;03m\"\"\"\u001B[39;00m\n\u001B[0;32m     16\u001B[0m \u001B[38;5;124;03mMetrics from mindspore.train.metrics\u001B[39;00m\n\u001B[0;32m     17\u001B[0m \u001B[38;5;124;03m\"\"\"\u001B[39;00m\n\u001B[1;32m---> 19\u001B[0m \u001B[38;5;28;01mfrom\u001B[39;00m \u001B[38;5;21;01mmindspore\u001B[39;00m\u001B[38;5;21;01m.\u001B[39;00m\u001B[38;5;21;01mtrain\u001B[39;00m\u001B[38;5;21;01m.\u001B[39;00m\u001B[38;5;21;01mmetrics\u001B[39;00m \u001B[38;5;28;01mimport\u001B[39;00m Accuracy, HausdorffDistance, MAE, MSE, Metric, \\\n\u001B[0;32m     20\u001B[0m     rearrange_inputs, Precision, Recall, Fbeta, F1, Dice, ROC, auc, \\\n\u001B[0;32m     21\u001B[0m     TopKCategoricalAccuracy, Top1CategoricalAccuracy, Top5CategoricalAccuracy, Loss, \\\n\u001B[0;32m     22\u001B[0m     MeanSurfaceDistance, RootMeanSquareDistance, BleuScore, CosineSimilarity, \\\n\u001B[0;32m     23\u001B[0m     OcclusionSensitivity, Perplexity, ConfusionMatrixMetric, ConfusionMatrix, \\\n\u001B[0;32m     24\u001B[0m     names, get_metric_fn, get_metrics\n\u001B[0;32m     26\u001B[0m __all__ \u001B[38;5;241m=\u001B[39m [\n\u001B[0;32m     27\u001B[0m     \u001B[38;5;124m\"\u001B[39m\u001B[38;5;124mnames\u001B[39m\u001B[38;5;124m\"\u001B[39m,\n\u001B[0;32m     28\u001B[0m     \u001B[38;5;124m\"\u001B[39m\u001B[38;5;124mget_metric_fn\u001B[39m\u001B[38;5;124m\"\u001B[39m,\n\u001B[1;32m   (...)\u001B[0m\n\u001B[0;32m     52\u001B[0m     \u001B[38;5;124m\"\u001B[39m\u001B[38;5;124mConfusionMatrixMetric\u001B[39m\u001B[38;5;124m\"\u001B[39m,\n\u001B[0;32m     53\u001B[0m ]\n",
      "File \u001B[1;32m~\\miniconda3\\envs\\mindspore\\Lib\\site-packages\\mindspore\\train\\metrics\\__init__.py:24\u001B[0m\n\u001B[0;32m     21\u001B[0m \u001B[38;5;28;01mfrom\u001B[39;00m \u001B[38;5;21;01m__future__\u001B[39;00m \u001B[38;5;28;01mimport\u001B[39;00m absolute_import\n\u001B[0;32m     23\u001B[0m \u001B[38;5;28;01mfrom\u001B[39;00m \u001B[38;5;21;01mmindspore\u001B[39;00m\u001B[38;5;21;01m.\u001B[39;00m\u001B[38;5;21;01mtrain\u001B[39;00m\u001B[38;5;21;01m.\u001B[39;00m\u001B[38;5;21;01mmetrics\u001B[39;00m\u001B[38;5;21;01m.\u001B[39;00m\u001B[38;5;21;01maccuracy\u001B[39;00m \u001B[38;5;28;01mimport\u001B[39;00m Accuracy\n\u001B[1;32m---> 24\u001B[0m \u001B[38;5;28;01mfrom\u001B[39;00m \u001B[38;5;21;01mmindspore\u001B[39;00m\u001B[38;5;21;01m.\u001B[39;00m\u001B[38;5;21;01mtrain\u001B[39;00m\u001B[38;5;21;01m.\u001B[39;00m\u001B[38;5;21;01mmetrics\u001B[39;00m\u001B[38;5;21;01m.\u001B[39;00m\u001B[38;5;21;01mhausdorff_distance\u001B[39;00m \u001B[38;5;28;01mimport\u001B[39;00m HausdorffDistance\n\u001B[0;32m     25\u001B[0m \u001B[38;5;28;01mfrom\u001B[39;00m \u001B[38;5;21;01mmindspore\u001B[39;00m\u001B[38;5;21;01m.\u001B[39;00m\u001B[38;5;21;01mtrain\u001B[39;00m\u001B[38;5;21;01m.\u001B[39;00m\u001B[38;5;21;01mmetrics\u001B[39;00m\u001B[38;5;21;01m.\u001B[39;00m\u001B[38;5;21;01merror\u001B[39;00m \u001B[38;5;28;01mimport\u001B[39;00m MAE, MSE\n\u001B[0;32m     26\u001B[0m \u001B[38;5;28;01mfrom\u001B[39;00m \u001B[38;5;21;01mmindspore\u001B[39;00m\u001B[38;5;21;01m.\u001B[39;00m\u001B[38;5;21;01mtrain\u001B[39;00m\u001B[38;5;21;01m.\u001B[39;00m\u001B[38;5;21;01mmetrics\u001B[39;00m\u001B[38;5;21;01m.\u001B[39;00m\u001B[38;5;21;01mmetric\u001B[39;00m \u001B[38;5;28;01mimport\u001B[39;00m Metric, rearrange_inputs\n",
      "File \u001B[1;32m~\\miniconda3\\envs\\mindspore\\Lib\\site-packages\\mindspore\\train\\metrics\\hausdorff_distance.py:20\u001B[0m\n\u001B[0;32m     18\u001B[0m \u001B[38;5;28;01mfrom\u001B[39;00m \u001B[38;5;21;01mcollections\u001B[39;00m \u001B[38;5;28;01mimport\u001B[39;00m abc\n\u001B[0;32m     19\u001B[0m \u001B[38;5;28;01mfrom\u001B[39;00m \u001B[38;5;21;01mabc\u001B[39;00m \u001B[38;5;28;01mimport\u001B[39;00m ABCMeta\n\u001B[1;32m---> 20\u001B[0m \u001B[38;5;28;01mfrom\u001B[39;00m \u001B[38;5;21;01mscipy\u001B[39;00m\u001B[38;5;21;01m.\u001B[39;00m\u001B[38;5;21;01mndimage\u001B[39;00m \u001B[38;5;28;01mimport\u001B[39;00m morphology\n\u001B[0;32m     21\u001B[0m \u001B[38;5;28;01mimport\u001B[39;00m \u001B[38;5;21;01mnumpy\u001B[39;00m \u001B[38;5;28;01mas\u001B[39;00m \u001B[38;5;21;01mnp\u001B[39;00m\n\u001B[0;32m     23\u001B[0m \u001B[38;5;28;01mfrom\u001B[39;00m \u001B[38;5;21;01mmindspore\u001B[39;00m\u001B[38;5;21;01m.\u001B[39;00m\u001B[38;5;21;01mcommon\u001B[39;00m\u001B[38;5;21;01m.\u001B[39;00m\u001B[38;5;21;01mtensor\u001B[39;00m \u001B[38;5;28;01mimport\u001B[39;00m Tensor\n",
      "File \u001B[1;32m~\\miniconda3\\envs\\mindspore\\Lib\\site-packages\\scipy\\ndimage\\__init__.py:156\u001B[0m\n\u001B[0;32m      1\u001B[0m \u001B[38;5;124;03m\"\"\"\u001B[39;00m\n\u001B[0;32m      2\u001B[0m \u001B[38;5;124;03m=========================================================\u001B[39;00m\n\u001B[0;32m      3\u001B[0m \u001B[38;5;124;03mMultidimensional image processing (:mod:`scipy.ndimage`)\u001B[39;00m\n\u001B[1;32m   (...)\u001B[0m\n\u001B[0;32m    119\u001B[0m \n\u001B[0;32m    120\u001B[0m \u001B[38;5;124;03m\"\"\"\u001B[39;00m\n\u001B[0;32m    122\u001B[0m \u001B[38;5;66;03m# Copyright (C) 2003-2005 Peter J. Verveer\u001B[39;00m\n\u001B[0;32m    123\u001B[0m \u001B[38;5;66;03m#\u001B[39;00m\n\u001B[0;32m    124\u001B[0m \u001B[38;5;66;03m# Redistribution and use in source and binary forms, with or without\u001B[39;00m\n\u001B[1;32m   (...)\u001B[0m\n\u001B[0;32m    153\u001B[0m \n\u001B[0;32m    154\u001B[0m \u001B[38;5;66;03m# mypy: ignore-errors\u001B[39;00m\n\u001B[1;32m--> 156\u001B[0m \u001B[38;5;28;01mfrom\u001B[39;00m \u001B[38;5;21;01m.\u001B[39;00m\u001B[38;5;21;01m_support_alternative_backends\u001B[39;00m \u001B[38;5;28;01mimport\u001B[39;00m \u001B[38;5;241m*\u001B[39m\n\u001B[0;32m    158\u001B[0m \u001B[38;5;66;03m# adjust __all__ and do not leak implementation details\u001B[39;00m\n\u001B[0;32m    159\u001B[0m \u001B[38;5;28;01mfrom\u001B[39;00m \u001B[38;5;21;01m.\u001B[39;00m \u001B[38;5;28;01mimport\u001B[39;00m _support_alternative_backends\n",
      "File \u001B[1;32m~\\miniconda3\\envs\\mindspore\\Lib\\site-packages\\scipy\\ndimage\\_support_alternative_backends.py:2\u001B[0m\n\u001B[0;32m      1\u001B[0m \u001B[38;5;28;01mimport\u001B[39;00m \u001B[38;5;21;01mfunctools\u001B[39;00m\n\u001B[1;32m----> 2\u001B[0m \u001B[38;5;28;01mfrom\u001B[39;00m \u001B[38;5;21;01mscipy\u001B[39;00m\u001B[38;5;21;01m.\u001B[39;00m\u001B[38;5;21;01m_lib\u001B[39;00m\u001B[38;5;21;01m.\u001B[39;00m\u001B[38;5;21;01m_array_api\u001B[39;00m \u001B[38;5;28;01mimport\u001B[39;00m (\n\u001B[0;32m      3\u001B[0m     is_cupy, is_jax, scipy_namespace_for, SCIPY_ARRAY_API\n\u001B[0;32m      4\u001B[0m )\n\u001B[0;32m      6\u001B[0m \u001B[38;5;28;01mimport\u001B[39;00m \u001B[38;5;21;01mnumpy\u001B[39;00m \u001B[38;5;28;01mas\u001B[39;00m \u001B[38;5;21;01mnp\u001B[39;00m\n\u001B[0;32m      7\u001B[0m \u001B[38;5;28;01mfrom\u001B[39;00m \u001B[38;5;21;01m.\u001B[39;00m\u001B[38;5;21;01m_ndimage_api\u001B[39;00m \u001B[38;5;28;01mimport\u001B[39;00m \u001B[38;5;241m*\u001B[39m   \u001B[38;5;66;03m# noqa: F403\u001B[39;00m\n",
      "File \u001B[1;32m~\\miniconda3\\envs\\mindspore\\Lib\\site-packages\\scipy\\_lib\\_array_api.py:18\u001B[0m\n\u001B[0;32m     15\u001B[0m \u001B[38;5;28;01mimport\u001B[39;00m \u001B[38;5;21;01mnumpy\u001B[39;00m\u001B[38;5;21;01m.\u001B[39;00m\u001B[38;5;21;01mtyping\u001B[39;00m \u001B[38;5;28;01mas\u001B[39;00m \u001B[38;5;21;01mnpt\u001B[39;00m\n\u001B[0;32m     17\u001B[0m \u001B[38;5;28;01mfrom\u001B[39;00m \u001B[38;5;21;01mscipy\u001B[39;00m\u001B[38;5;21;01m.\u001B[39;00m\u001B[38;5;21;01m_lib\u001B[39;00m \u001B[38;5;28;01mimport\u001B[39;00m array_api_compat\n\u001B[1;32m---> 18\u001B[0m \u001B[38;5;28;01mfrom\u001B[39;00m \u001B[38;5;21;01mscipy\u001B[39;00m\u001B[38;5;21;01m.\u001B[39;00m\u001B[38;5;21;01m_lib\u001B[39;00m\u001B[38;5;21;01m.\u001B[39;00m\u001B[38;5;21;01marray_api_compat\u001B[39;00m \u001B[38;5;28;01mimport\u001B[39;00m (\n\u001B[0;32m     19\u001B[0m     is_array_api_obj,\n\u001B[0;32m     20\u001B[0m     size \u001B[38;5;28;01mas\u001B[39;00m xp_size,\n\u001B[0;32m     21\u001B[0m     numpy \u001B[38;5;28;01mas\u001B[39;00m np_compat,\n\u001B[0;32m     22\u001B[0m     device \u001B[38;5;28;01mas\u001B[39;00m xp_device,\n\u001B[0;32m     23\u001B[0m     is_numpy_namespace \u001B[38;5;28;01mas\u001B[39;00m is_numpy,\n\u001B[0;32m     24\u001B[0m     is_cupy_namespace \u001B[38;5;28;01mas\u001B[39;00m is_cupy,\n\u001B[0;32m     25\u001B[0m     is_torch_namespace \u001B[38;5;28;01mas\u001B[39;00m is_torch,\n\u001B[0;32m     26\u001B[0m     is_jax_namespace \u001B[38;5;28;01mas\u001B[39;00m is_jax,\n\u001B[0;32m     27\u001B[0m     is_array_api_strict_namespace \u001B[38;5;28;01mas\u001B[39;00m is_array_api_strict\n\u001B[0;32m     28\u001B[0m )\n\u001B[0;32m     30\u001B[0m __all__ \u001B[38;5;241m=\u001B[39m [\n\u001B[0;32m     31\u001B[0m     \u001B[38;5;124m'\u001B[39m\u001B[38;5;124m_asarray\u001B[39m\u001B[38;5;124m'\u001B[39m, \u001B[38;5;124m'\u001B[39m\u001B[38;5;124marray_namespace\u001B[39m\u001B[38;5;124m'\u001B[39m, \u001B[38;5;124m'\u001B[39m\u001B[38;5;124massert_almost_equal\u001B[39m\u001B[38;5;124m'\u001B[39m, \u001B[38;5;124m'\u001B[39m\u001B[38;5;124massert_array_almost_equal\u001B[39m\u001B[38;5;124m'\u001B[39m,\n\u001B[0;32m     32\u001B[0m     \u001B[38;5;124m'\u001B[39m\u001B[38;5;124mget_xp_devices\u001B[39m\u001B[38;5;124m'\u001B[39m,\n\u001B[1;32m   (...)\u001B[0m\n\u001B[0;32m     38\u001B[0m     \u001B[38;5;124m'\u001B[39m\u001B[38;5;124mxp_take_along_axis\u001B[39m\u001B[38;5;124m'\u001B[39m, \u001B[38;5;124m'\u001B[39m\u001B[38;5;124mxp_unsupported_param_msg\u001B[39m\u001B[38;5;124m'\u001B[39m, \u001B[38;5;124m'\u001B[39m\u001B[38;5;124mxp_vector_norm\u001B[39m\u001B[38;5;124m'\u001B[39m,\n\u001B[0;32m     39\u001B[0m ]\n\u001B[0;32m     42\u001B[0m \u001B[38;5;66;03m# To enable array API and strict array-like input validation\u001B[39;00m\n",
      "File \u001B[1;32m~\\miniconda3\\envs\\mindspore\\Lib\\site-packages\\scipy\\_lib\\array_api_compat\\numpy\\__init__.py:1\u001B[0m\n\u001B[1;32m----> 1\u001B[0m \u001B[38;5;28;01mfrom\u001B[39;00m \u001B[38;5;21;01mnumpy\u001B[39;00m \u001B[38;5;28;01mimport\u001B[39;00m \u001B[38;5;241m*\u001B[39m \u001B[38;5;66;03m# noqa: F403\u001B[39;00m\n\u001B[0;32m      3\u001B[0m \u001B[38;5;66;03m# from numpy import * doesn't overwrite these builtin names\u001B[39;00m\n\u001B[0;32m      4\u001B[0m \u001B[38;5;28;01mfrom\u001B[39;00m \u001B[38;5;21;01mnumpy\u001B[39;00m \u001B[38;5;28;01mimport\u001B[39;00m \u001B[38;5;28mabs\u001B[39m, \u001B[38;5;28mmax\u001B[39m, \u001B[38;5;28mmin\u001B[39m, \u001B[38;5;28mround\u001B[39m \u001B[38;5;66;03m# noqa: F401\u001B[39;00m\n",
      "File \u001B[1;32m~\\miniconda3\\envs\\mindspore\\Lib\\site-packages\\numpy\\__init__.py:359\u001B[0m, in \u001B[0;36m__getattr__\u001B[1;34m(attr)\u001B[0m\n\u001B[0;32m      0\u001B[0m <Error retrieving source code with stack_data see ipython/ipython#13598>\n",
      "File \u001B[1;32m~\\miniconda3\\envs\\mindspore\\Lib\\site-packages\\numpy\\ma\\__init__.py:42\u001B[0m\n\u001B[0;32m      1\u001B[0m \u001B[38;5;124;03m\"\"\"\u001B[39;00m\n\u001B[0;32m      2\u001B[0m \u001B[38;5;124;03m=============\u001B[39;00m\n\u001B[0;32m      3\u001B[0m \u001B[38;5;124;03mMasked Arrays\u001B[39;00m\n\u001B[1;32m   (...)\u001B[0m\n\u001B[0;32m     40\u001B[0m \n\u001B[0;32m     41\u001B[0m \u001B[38;5;124;03m\"\"\"\u001B[39;00m\n\u001B[1;32m---> 42\u001B[0m \u001B[38;5;28;01mfrom\u001B[39;00m \u001B[38;5;21;01m.\u001B[39;00m \u001B[38;5;28;01mimport\u001B[39;00m core\n\u001B[0;32m     43\u001B[0m \u001B[38;5;28;01mfrom\u001B[39;00m \u001B[38;5;21;01m.\u001B[39;00m\u001B[38;5;21;01mcore\u001B[39;00m \u001B[38;5;28;01mimport\u001B[39;00m \u001B[38;5;241m*\u001B[39m\n\u001B[0;32m     45\u001B[0m \u001B[38;5;28;01mfrom\u001B[39;00m \u001B[38;5;21;01m.\u001B[39;00m \u001B[38;5;28;01mimport\u001B[39;00m extras\n",
      "File \u001B[1;32m~\\miniconda3\\envs\\mindspore\\Lib\\site-packages\\numpy\\ma\\core.py:37\u001B[0m\n\u001B[0;32m     35\u001B[0m \u001B[38;5;28;01mfrom\u001B[39;00m \u001B[38;5;21;01mnumpy\u001B[39;00m \u001B[38;5;28;01mimport\u001B[39;00m ndarray, amax, amin, iscomplexobj, bool_, _NoValue\n\u001B[0;32m     36\u001B[0m \u001B[38;5;28;01mfrom\u001B[39;00m \u001B[38;5;21;01mnumpy\u001B[39;00m \u001B[38;5;28;01mimport\u001B[39;00m array \u001B[38;5;28;01mas\u001B[39;00m narray\n\u001B[1;32m---> 37\u001B[0m \u001B[38;5;28;01mfrom\u001B[39;00m \u001B[38;5;21;01mnumpy\u001B[39;00m\u001B[38;5;21;01m.\u001B[39;00m\u001B[38;5;21;01mlib\u001B[39;00m\u001B[38;5;21;01m.\u001B[39;00m\u001B[38;5;21;01mfunction_base\u001B[39;00m \u001B[38;5;28;01mimport\u001B[39;00m angle\n\u001B[0;32m     38\u001B[0m \u001B[38;5;28;01mfrom\u001B[39;00m \u001B[38;5;21;01mnumpy\u001B[39;00m\u001B[38;5;21;01m.\u001B[39;00m\u001B[38;5;21;01mcompat\u001B[39;00m \u001B[38;5;28;01mimport\u001B[39;00m (\n\u001B[0;32m     39\u001B[0m     getargspec, formatargspec, long, unicode, \u001B[38;5;28mbytes\u001B[39m\n\u001B[0;32m     40\u001B[0m     )\n\u001B[0;32m     41\u001B[0m \u001B[38;5;28;01mfrom\u001B[39;00m \u001B[38;5;21;01mnumpy\u001B[39;00m \u001B[38;5;28;01mimport\u001B[39;00m expand_dims\n",
      "File \u001B[1;32m~\\miniconda3\\envs\\mindspore\\Lib\\site-packages\\numpy\\lib\\function_base.py:25\u001B[0m\n\u001B[0;32m     23\u001B[0m \u001B[38;5;28;01mfrom\u001B[39;00m \u001B[38;5;21;01mnumpy\u001B[39;00m\u001B[38;5;21;01m.\u001B[39;00m\u001B[38;5;21;01mcore\u001B[39;00m \u001B[38;5;28;01mimport\u001B[39;00m overrides\n\u001B[0;32m     24\u001B[0m \u001B[38;5;28;01mfrom\u001B[39;00m \u001B[38;5;21;01mnumpy\u001B[39;00m\u001B[38;5;21;01m.\u001B[39;00m\u001B[38;5;21;01mcore\u001B[39;00m\u001B[38;5;21;01m.\u001B[39;00m\u001B[38;5;21;01mfunction_base\u001B[39;00m \u001B[38;5;28;01mimport\u001B[39;00m add_newdoc\n\u001B[1;32m---> 25\u001B[0m \u001B[38;5;28;01mfrom\u001B[39;00m \u001B[38;5;21;01mnumpy\u001B[39;00m\u001B[38;5;21;01m.\u001B[39;00m\u001B[38;5;21;01mlib\u001B[39;00m\u001B[38;5;21;01m.\u001B[39;00m\u001B[38;5;21;01mtwodim_base\u001B[39;00m \u001B[38;5;28;01mimport\u001B[39;00m diag\n\u001B[0;32m     26\u001B[0m \u001B[38;5;28;01mfrom\u001B[39;00m \u001B[38;5;21;01mnumpy\u001B[39;00m\u001B[38;5;21;01m.\u001B[39;00m\u001B[38;5;21;01mcore\u001B[39;00m\u001B[38;5;21;01m.\u001B[39;00m\u001B[38;5;21;01mmultiarray\u001B[39;00m \u001B[38;5;28;01mimport\u001B[39;00m (\n\u001B[0;32m     27\u001B[0m     _place, add_docstring, bincount, normalize_axis_index, _monotonicity,\n\u001B[0;32m     28\u001B[0m     interp \u001B[38;5;28;01mas\u001B[39;00m compiled_interp, interp_complex \u001B[38;5;28;01mas\u001B[39;00m compiled_interp_complex\n\u001B[0;32m     29\u001B[0m     )\n\u001B[0;32m     30\u001B[0m \u001B[38;5;28;01mfrom\u001B[39;00m \u001B[38;5;21;01mnumpy\u001B[39;00m\u001B[38;5;21;01m.\u001B[39;00m\u001B[38;5;21;01mcore\u001B[39;00m\u001B[38;5;21;01m.\u001B[39;00m\u001B[38;5;21;01mumath\u001B[39;00m \u001B[38;5;28;01mimport\u001B[39;00m _add_newdoc_ufunc \u001B[38;5;28;01mas\u001B[39;00m add_newdoc_ufunc\n",
      "File \u001B[1;32m~\\miniconda3\\envs\\mindspore\\Lib\\site-packages\\numpy\\lib\\twodim_base.py:15\u001B[0m\n\u001B[0;32m     13\u001B[0m \u001B[38;5;28;01mfrom\u001B[39;00m \u001B[38;5;21;01mnumpy\u001B[39;00m\u001B[38;5;21;01m.\u001B[39;00m\u001B[38;5;21;01mcore\u001B[39;00m \u001B[38;5;28;01mimport\u001B[39;00m overrides\n\u001B[0;32m     14\u001B[0m \u001B[38;5;28;01mfrom\u001B[39;00m \u001B[38;5;21;01mnumpy\u001B[39;00m\u001B[38;5;21;01m.\u001B[39;00m\u001B[38;5;21;01mcore\u001B[39;00m \u001B[38;5;28;01mimport\u001B[39;00m iinfo\n\u001B[1;32m---> 15\u001B[0m \u001B[38;5;28;01mfrom\u001B[39;00m \u001B[38;5;21;01mnumpy\u001B[39;00m\u001B[38;5;21;01m.\u001B[39;00m\u001B[38;5;21;01mlib\u001B[39;00m\u001B[38;5;21;01m.\u001B[39;00m\u001B[38;5;21;01mstride_tricks\u001B[39;00m \u001B[38;5;28;01mimport\u001B[39;00m broadcast_to\n\u001B[0;32m     18\u001B[0m __all__ \u001B[38;5;241m=\u001B[39m [\n\u001B[0;32m     19\u001B[0m     \u001B[38;5;124m'\u001B[39m\u001B[38;5;124mdiag\u001B[39m\u001B[38;5;124m'\u001B[39m, \u001B[38;5;124m'\u001B[39m\u001B[38;5;124mdiagflat\u001B[39m\u001B[38;5;124m'\u001B[39m, \u001B[38;5;124m'\u001B[39m\u001B[38;5;124meye\u001B[39m\u001B[38;5;124m'\u001B[39m, \u001B[38;5;124m'\u001B[39m\u001B[38;5;124mfliplr\u001B[39m\u001B[38;5;124m'\u001B[39m, \u001B[38;5;124m'\u001B[39m\u001B[38;5;124mflipud\u001B[39m\u001B[38;5;124m'\u001B[39m, \u001B[38;5;124m'\u001B[39m\u001B[38;5;124mtri\u001B[39m\u001B[38;5;124m'\u001B[39m, \u001B[38;5;124m'\u001B[39m\u001B[38;5;124mtriu\u001B[39m\u001B[38;5;124m'\u001B[39m,\n\u001B[0;32m     20\u001B[0m     \u001B[38;5;124m'\u001B[39m\u001B[38;5;124mtril\u001B[39m\u001B[38;5;124m'\u001B[39m, \u001B[38;5;124m'\u001B[39m\u001B[38;5;124mvander\u001B[39m\u001B[38;5;124m'\u001B[39m, \u001B[38;5;124m'\u001B[39m\u001B[38;5;124mhistogram2d\u001B[39m\u001B[38;5;124m'\u001B[39m, \u001B[38;5;124m'\u001B[39m\u001B[38;5;124mmask_indices\u001B[39m\u001B[38;5;124m'\u001B[39m, \u001B[38;5;124m'\u001B[39m\u001B[38;5;124mtril_indices\u001B[39m\u001B[38;5;124m'\u001B[39m,\n\u001B[0;32m     21\u001B[0m     \u001B[38;5;124m'\u001B[39m\u001B[38;5;124mtril_indices_from\u001B[39m\u001B[38;5;124m'\u001B[39m, \u001B[38;5;124m'\u001B[39m\u001B[38;5;124mtriu_indices\u001B[39m\u001B[38;5;124m'\u001B[39m, \u001B[38;5;124m'\u001B[39m\u001B[38;5;124mtriu_indices_from\u001B[39m\u001B[38;5;124m'\u001B[39m, ]\n\u001B[0;32m     24\u001B[0m array_function_dispatch \u001B[38;5;241m=\u001B[39m functools\u001B[38;5;241m.\u001B[39mpartial(\n\u001B[0;32m     25\u001B[0m     overrides\u001B[38;5;241m.\u001B[39marray_function_dispatch, module\u001B[38;5;241m=\u001B[39m\u001B[38;5;124m'\u001B[39m\u001B[38;5;124mnumpy\u001B[39m\u001B[38;5;124m'\u001B[39m)\n",
      "\u001B[1;31mImportError\u001B[0m: cannot import name 'broadcast_to' from 'numpy.lib.stride_tricks' (C:\\Users\\11247\\miniconda3\\envs\\mindspore\\Lib\\site-packages\\numpy\\lib\\stride_tricks.py)"
     ]
    }
   ],
   "execution_count": 5
  },
  {
   "attachments": {},
   "cell_type": "markdown",
   "id": "2f92fef3",
   "metadata": {},
   "source": [
    "## 5.2 定义参数和超参数\n",
    "定义训练回合数、Actor学习率、Critic学习率以及折现因子 $\\gamma$，代码如下："
   ]
  },
  {
   "cell_type": "code",
   "id": "e1734276",
   "metadata": {
    "ExecuteTime": {
     "end_time": "2025-01-09T10:01:07.074563Z",
     "start_time": "2025-01-09T10:01:07.067035Z"
    }
   },
   "source": [
    "round_num = 10     # 训练回合数 \n",
    "LR_A = 0.005        # learning rate for actor\n",
    "LR_C = 0.01         # learning rate for critic\n",
    "Gamma = 0.9         # 折现因子"
   ],
   "outputs": [],
   "execution_count": 12
  },
  {
   "attachments": {},
   "cell_type": "markdown",
   "id": "e43b61bc",
   "metadata": {},
   "source": [
    "## 5.3 定义损失函数\n",
    "继承自nn.LossBase类构造损失函数，代码如下："
   ]
  },
  {
   "cell_type": "code",
   "id": "e396b3b3",
   "metadata": {
    "ExecuteTime": {
     "end_time": "2025-01-09T10:01:08.617449Z",
     "start_time": "2025-01-09T10:01:08.603607Z"
    }
   },
   "source": [
    "# 定义损失函数MAELoss\n",
    "class MAELoss(nn.LossBase):\n",
    "    def __init__(self, reduction=\"none\"):\n",
    "        super(MAELoss, self).__init__(reduction)\n",
    "    # 构造损失函数\n",
    "    def construct(self, prob, a,td):\n",
    "        a_constant=a\n",
    "        log_prob = F.log(prob)\n",
    "        td_constant=td[0]\n",
    "        # 定义信息熵\n",
    "        log_prob_constant=-log_prob[0][a_constant]\n",
    "        # 计算演员损失函数\n",
    "        actor_loss = -log_prob_constant * td_constant\n",
    "        return actor_loss"
   ],
   "outputs": [],
   "execution_count": 13
  },
  {
   "attachments": {},
   "cell_type": "markdown",
   "id": "ae7d2385",
   "metadata": {},
   "source": [
    "## 5.4 构建Actor网络"
   ]
  },
  {
   "attachments": {},
   "cell_type": "markdown",
   "id": "23aeff43",
   "metadata": {},
   "source": [
    "构建Actor网络类以及Actor类，构建Actor的行为选择函数和学习函数，代码如下："
   ]
  },
  {
   "cell_type": "code",
   "id": "9323d265",
   "metadata": {
    "ExecuteTime": {
     "end_time": "2025-01-09T10:01:10.138384Z",
     "start_time": "2025-01-09T10:01:10.118024Z"
    }
   },
   "source": [
    "# Actor网络类\n",
    "class ActorNet(nn.Cell):\n",
    "    def __init__(self):\n",
    "        super(ActorNet, self).__init__()\n",
    "        # 全连接层1\n",
    "        self.fc1 = nn.Dense(state_number, 50)\n",
    "        # 全连接层2\n",
    "        self.fc2 = nn.Dense(50, 20)\n",
    "        # 全连接层3\n",
    "        self.fc3 = nn.Dense(20, action_number)\n",
    "        # ReLU激活函数\n",
    "        self.relu = nn.ReLU()\n",
    "        # Sigmoid激活函数\n",
    "        self.sigmoid = nn.Sigmoid()\n",
    "        # Softmax归一化函数\n",
    "        self.softmax = nn.Softmax()\n",
    "    # 构造Actor网络\n",
    "    def construct(self, x):\n",
    "        # 全连接层\n",
    "        x = self.fc1(x)\n",
    "        # ReLU激活函数\n",
    "        x = self.relu(x)\n",
    "        # 全连接层\n",
    "        x = self.fc2(x)\n",
    "        # Sigmoid激活函数\n",
    "        x = self.sigmoid(x)\n",
    "        # 全连接层\n",
    "        x = self.fc3(x)\n",
    "        # 返回softmax函数结果\n",
    "        return self.softmax(x)\n",
    "# 演员类\n",
    "class Actor():\n",
    "    def __init__(self):\n",
    "        # 构造演员网络\n",
    "        self.actor=ActorNet()\n",
    "        # 优化器\n",
    "        self.optimizer = nn.Adam(self.actor.trainable_params(),learning_rate=LR_A)\n",
    "        # 损失函数\n",
    "        self.loss=MAELoss()\n",
    "    # 行为选择函数\n",
    "    def choose(self,inputstate):\n",
    "        # inputstate=Tensor(inputstate)\n",
    "        # 输入状态\n",
    "        inputstate=Tensor([inputstate])\n",
    "        probs=self.actor(inputstate).asnumpy()\n",
    "        # 获取行为\n",
    "        action=np.random.choice(np.arange(action_number),p=probs[0])\n",
    "        # 返回行为\n",
    "        return action\n",
    "    # 学习函数\n",
    "    def learn(self,s,a,td):\n",
    "        s = Tensor([s])\n",
    "        prob = self.actor(s)\n",
    "        # log_prob = F.log(prob)\n",
    "        # td张量化\n",
    "        td=Tensor(td)\n",
    "        # a转为整型变量\n",
    "        a=int(a)\n",
    "        a_constant = a\n",
    "        # 信息熵\n",
    "        log_prob = F.log(prob)\n",
    "        td_constant = td[0]\n",
    "        log_prob_constant = -log_prob[0][a_constant]\n",
    "        # 构造损失网络\n",
    "        loss_net=nn.WithLossCell(self.actor,loss_fn=self.loss(prob,Tensor(a),td))\n",
    "        # 构造训练网络\n",
    "        train_net = nn.TrainOneStepCell(loss_net,self.optimizer)"
   ],
   "outputs": [],
   "execution_count": 14
  },
  {
   "attachments": {},
   "cell_type": "markdown",
   "id": "87657a5f",
   "metadata": {},
   "source": [
    "## 5.5 构建Critic网络\n",
    "构建Critic网络类以及Critic类，构建Critic的学习函数。"
   ]
  },
  {
   "cell_type": "code",
   "id": "b32eede0",
   "metadata": {
    "ExecuteTime": {
     "end_time": "2025-01-09T10:01:13.961898Z",
     "start_time": "2025-01-09T10:01:13.946063Z"
    }
   },
   "source": [
    "# 评论者网络\n",
    "class CriticNet(nn.Cell):\n",
    "    def __init__(self):\n",
    "        super(CriticNet, self).__init__()\n",
    "        # 全连接层1\n",
    "        self.fc1 = nn.Dense(state_number, 50)\n",
    "        # 全连接层2\n",
    "        self.fc2 = nn.Dense(50, 20)\n",
    "        # 全连接层3\n",
    "        self.fc3 = nn.Dense(20, 1)\n",
    "        # ReLU激活函数\n",
    "        self.relu = nn.ReLU()\n",
    "        # Sigmoid激活函数\n",
    "        self.sigmoid = nn.Sigmoid()\n",
    "        # Softmax归一化函数\n",
    "        self.softmax = nn.Softmax()\n",
    "    # 构造函数\n",
    "    def construct(self, x):\n",
    "        # 全连接层\n",
    "        x = self.fc1(x)\n",
    "        # ReLU激活函数\n",
    "        x = self.relu(x)\n",
    "        # 全连接层\n",
    "        x = self.fc2(x)\n",
    "        # Sigmoid激活函数\n",
    "        x = self.sigmoid(x)\n",
    "        # 返回全连接层结果\n",
    "        return self.fc3(x)\n",
    "class Critic():\n",
    "    def __init__(self):\n",
    "        self.critic=CriticNet()\n",
    "        self.tempA=ActorNet()\n",
    "        # 优化器\n",
    "        self.optimizer = nn.Adam(self.critic.trainable_params(),learning_rate=LR_C)\n",
    "        # 均方误差（MSE）\n",
    "        self.lossfunc=nn.MSELoss()\n",
    "    def learn(self,s,r,s_):\n",
    "        s = Tensor([s])\n",
    "        # 输入当前状态，由网络得到估计v\n",
    "        v=self.critic(s)\n",
    "        r=Tensor([r])\n",
    "        s_ = Tensor([s_])\n",
    "        temp=Tensor(self.critic(s_).asnumpy())\n",
    "        # 真实v\n",
    "        reality_v=r+Gamma*temp[0]\n",
    "        # 构造损失网络\n",
    "        loss_net=nn.WithLossCell(self.critic,self.lossfunc(reality_v,v[0]))\n",
    "        # 构造训练网络\n",
    "        train_net=nn.TrainOneStepCell(loss_net,self.optimizer)\n",
    "        # 计算真实v与估计v之间的差距\n",
    "        advantage=(reality_v-v).asnumpy()\n",
    "        return advantage"
   ],
   "outputs": [],
   "execution_count": 15
  },
  {
   "attachments": {},
   "cell_type": "markdown",
   "id": "15dc302f",
   "metadata": {},
   "source": [
    "# 6 模型训练\n",
    "首先实例化演员类和评论者类，然后开始训练。每轮训练迭代过程中需要重置环境，打印出每个行为所得到的奖励。"
   ]
  },
  {
   "cell_type": "code",
   "id": "f05cb1de",
   "metadata": {
    "ExecuteTime": {
     "end_time": "2025-01-09T10:01:18.291042Z",
     "start_time": "2025-01-09T10:01:16.798550Z"
    }
   },
   "source": [
    "print('AC训练中...')\n",
    "# 演员实例化\n",
    "a=Actor()\n",
    "# 评论者实例化\n",
    "c=Critic()\n",
    "# 开始训练\n",
    "for i in range(round_num):\n",
    "    r_totle=[]\n",
    "    # 环境重置\n",
    "    observation = env.reset()#环境重置\n",
    "    # 判断数据类型（gym版本）\n",
    "    observation = observation if type(observation)== np.ndarray else observation[0]\n",
    "    # print(observation)\n",
    "    # print(observation)\n",
    "    while True:\n",
    "        # 选择行为\n",
    "        action=a.choose(observation)\n",
    "        # print(env.step(action))\n",
    "        step = env.step(action)\n",
    "        # 获取训练过程相关参数\n",
    "        observation_ = step[0]\n",
    "        reward = step[1]\n",
    "        done = step[2]\n",
    "        info = step[3]\n",
    "        # 打印出训练过程\n",
    "        # print(observation_, reward, done, info)\n",
    "        # observation_, reward, done, info = env.step(action)\n",
    "        # 获取td误差\n",
    "        td_error =c.learn(observation,reward,observation_)\n",
    "        # 学习行为\n",
    "        a.learn(observation,action,td_error)\n",
    "        observation=observation_\n",
    "        # 行为选择奖励加入总回报\n",
    "        r_totle.append(reward)\n",
    "        # done = True进行下一轮训练\n",
    "        if done:\n",
    "            break\n",
    "    # 计算总回报\n",
    "    r_sum=sum(r_totle)\n",
    "    # 打印训练回合数和奖励\n",
    "    print(\"\\r回合数：{} 奖励：{}\".format(i,r_sum),end=\" \")\n",
    "    print(observation)\n",
    "    # 保存检查点\n",
    "    if i%100==0 and i > int(round_num/2):\n",
    "        mindspore.save_checkpoint(a.actor, \"./actor.ckpt\")\n",
    "        mindspore.save_checkpoint(c.critic, \"./critic.ckpt\")\n",
    "print('AC训练完成')\n"
   ],
   "outputs": [
    {
     "name": "stdout",
     "output_type": "stream",
     "text": [
      "AC训练中...\n",
      "回合数：0 奖励：23.0 [ 0.12408502  0.6379637  -0.22481926 -1.5965565 ]\n",
      "回合数：1 奖励：24.0 [ 0.122814    0.44820926 -0.22018373 -1.1130093 ]\n",
      "回合数：2 奖励：25.0 [ 0.14172608  0.21807083 -0.21472439 -0.78064305]\n",
      "回合数：3 奖励：13.0 [ 0.14404401  0.95369    -0.22715661 -1.7510049 ]\n",
      "回合数：4 奖励：19.0 [ 0.210424    1.3721305  -0.22407806 -2.2649517 ]\n",
      "回合数：5 奖励：18.0 [ 0.13592006  1.1527158  -0.22501172 -2.1763527 ]\n",
      "回合数：6 奖励：28.0 [ 0.14241427 -0.02230478 -0.21327867 -0.3964676 ]\n",
      "回合数：7 奖励：40.0 [-0.21638344 -0.78904396  0.22050749  1.6011549 ]\n",
      "回合数：8 奖励：47.0 [ 0.3245113   2.1145563  -0.22637044 -2.598526  ]\n",
      "回合数：9 奖励：12.0 [ 0.16129102  1.5494959  -0.22176285 -2.4436302 ]\n",
      "AC训练完成\n"
     ]
    }
   ],
   "execution_count": 16
  }
 ],
 "metadata": {
  "kernelspec": {
   "display_name": "Python 3.7.16 ('ms_n')",
   "language": "python",
   "name": "python3"
  },
  "language_info": {
   "codemirror_mode": {
    "name": "ipython",
    "version": 3
   },
   "file_extension": ".py",
   "mimetype": "text/x-python",
   "name": "python",
   "nbconvert_exporter": "python",
   "pygments_lexer": "ipython3",
   "version": "3.7.16"
  },
  "vscode": {
   "interpreter": {
    "hash": "e4ab65fdc43de4932de46c69418c64f6e3769852db39afdc53804a8e5b8ff4a1"
   }
  }
 },
 "nbformat": 4,
 "nbformat_minor": 5
}
