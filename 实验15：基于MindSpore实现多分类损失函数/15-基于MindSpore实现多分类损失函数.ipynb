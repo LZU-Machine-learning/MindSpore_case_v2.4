{
 "cells": [
  {
   "attachments": {},
   "cell_type": "markdown",
   "metadata": {},
   "source": [
    "# 基于MindSpore实现多分类损失函数\n",
    "本小节主要介绍多分类损失函数的原理，并使用MIndspore实现。"
   ]
  },
  {
   "attachments": {},
   "cell_type": "markdown",
   "metadata": {},
   "source": [
    "## 1、实验目的\n",
    "- 了解多分类损失函数原理。\n",
    "- 掌握如何使用MIndspore实现多分类损失函数。\n"
   ]
  },
  {
   "attachments": {},
   "cell_type": "markdown",
   "metadata": {},
   "source": [
    "## 2、多分类损失函数原理介绍\n",
    "二分类损失函数中定义了一个简单的平均绝对误差损失函数MAELoss，但许多深度学习应用的数据集较复杂，如目标检测网络Faster R-CNN的数据中就包含多个标签，而非简单的一条数据对应一个标签，这时损失函数的定义和使用略有不同。  \n",
    "针对本实验中创建的多标签数据集，定义多标签损失函数MAELossForMultiLabel。\n",
    "$$ loss\\ 1=\\frac{1}{m}\\ \\sum_{i=1}^{m}\\left|y1_i-f\\left(x_i\\right)\\right| $$\n",
    "$$ loss\\ 2=\\frac{1}{m}\\ \\sum_{i=1}^{m}\\left|y2_i-f\\left(x_i\\right)\\right| $$\n",
    "$$ loss=\\frac{\\left(loss1+loss2\\right)}{2} $$\n",
    "上式中，f(x)为样例标签的预测值，y1和y2为样例标签的真实值，$loss\\ 1$为预测值与真实值y1之间距离的平均值，$loss\\ 2$为预测值与真实值y2之间距离的平均值，loss为损失值$loss\\ 1$与损失值$loss\\ 2$平均值。  \n",
    "在 MAELossForMultilabel中的construct方法的输入有三个，预测值base，真实值target1和target2，在construct中分别计算预测值与真实值target1、预测值与真实值target2之间的误差，将两误差取平均后作为最终的损失函数值。\n"
   ]
  },
  {
   "attachments": {},
   "cell_type": "markdown",
   "metadata": {},
   "source": [
    "## 3、实验环境\n",
    "在动手进行实践之前，需要注意以下几点：\n",
    "* 确保实验环境正确安装，包括安装MindSpore。安装过程：首先登录[MindSpore官网安装页面](https://www.mindspore.cn/install)，根据安装指南下载安装包及查询相关文档。同时，官网环境安装也可以按下表说明找到对应环境搭建文档链接，根据环境搭建手册配置对应的实验环境。\n",
    "* 推荐使用交互式的计算环境Jupyter Notebook，其交互性强，易于可视化，适合频繁修改的数据分析实验环境。\n",
    "* 实验也可以在华为云一站式的AI开发平台ModelArts上完成。\n",
    "* 推荐实验环境：MindSpore版本=MindSpore 2.4.10；Python环境=3.11\n",
    "\n",
    "\n",
    "|  硬件平台 |  操作系统  | 软件环境 | 开发环境 | 环境搭建链接 |\n",
    "| :-----:| :----: | :----: |:----:   |:----:   |\n",
    "| CPU | Windows-x64 | MindSpore2.4.10 Python3.11 | JupyterNotebook |[MindSpore环境搭建实验手册第二章2.1节和第三章3.1节](./MindSpore环境搭建实验手册.docx)|\n",
    "| GPU|Linux-x86_64| MindSpore2.4.10 Python3.11 | JupyterNotebook |[MindSpore环境搭建实验手册第二章2.2节和第三章3.1节](./MindSpore环境搭建实验手册.docx)|\n",
    "| Ascend 910  | Linux-x86_64| MindSpore2.4.10 Python3.11 | JupyterNotebook |[MindSpore环境搭建实验手册第四章](./MindSpore环境搭建实验手册.docx)|"
   ]
  },
  {
   "attachments": {},
   "cell_type": "markdown",
   "metadata": {},
   "source": [
    "## 4、数据处理"
   ]
  },
  {
   "attachments": {},
   "cell_type": "markdown",
   "metadata": {},
   "source": [
    "### 4.1 构建多标签数据集\n",
    "Numpy模块主要用于数据的基本运算操作。MindSpore相关模块主要用于搭建网络、调用优化器、读取数据集和将数据集处理成网络的标准输入格式。  \n",
    "数据集的两个标签分别由\n",
    "$$y_1=2x+3+{noise}_1$$\n",
    "$$y_2=2x+3+{noise}_2$$\n",
    "生成。其中${noise}_1$和${noise}_2$为服从标准正态分布的随机值。\n"
   ]
  },
  {
   "cell_type": "code",
   "execution_count": 1,
   "metadata": {},
   "outputs": [],
   "source": [
    "import numpy as np\n",
    "\n",
    "from mindspore import dataset as ds\n",
    "import mindspore.nn as nn\n",
    "import mindspore as ms\n",
    "\n",
    "ms.set_context(mode=ms.GRAPH_MODE, device_target='CPU')\n",
    "\n",
    "# 生成带有两个标签的数据集\n",
    "def get_multilabel_data(num, w=2.0, b=3.0):\n",
    "    for _ in range(num):\n",
    "        x = np.random.uniform(-10.0, 10.0)\n",
    "        # noise1和noise2为服从标准正态分布的随机值\n",
    "        noise1 = np.random.normal(0, 1)\n",
    "        noise2 = np.random.normal(-1, 1)\n",
    "        # 定义第一个标签\n",
    "        y1 = x * w + b + noise1                   \n",
    "        # 定义第二个标签\n",
    "        y2 = x * w + b + noise2                   \n",
    "        yield np.array([x]).astype(np.float32), np.array([y1]).astype(np.float32), np.array([y2]).astype(np.float32)\n",
    "\n",
    "def create_multilabel_dataset(num_data, batch_size=16):\n",
    "    dataset = ds.GeneratorDataset(list(get_multilabel_data(num_data)), column_names=['data', 'label1', 'label2'])\n",
    "    # 每个batch有16个数据\n",
    "    dataset = dataset.batch(batch_size) \n",
    "    return dataset"
   ]
  },
  {
   "attachments": {},
   "cell_type": "markdown",
   "metadata": {},
   "source": [
    "## 5、模型构建"
   ]
  },
  {
   "attachments": {},
   "cell_type": "markdown",
   "metadata": {},
   "source": [
    "### 5.1 多标签损失函数\n",
    "定义多标签损失函数。"
   ]
  },
  {
   "cell_type": "code",
   "execution_count": 2,
   "metadata": {},
   "outputs": [],
   "source": [
    "# 定义多标签损失函数\n",
    "class MAELossForMultiLabel(nn.LossBase):\n",
    "    def __init__(self, reduction=\"mean\"):\n",
    "        super(MAELossForMultiLabel, self).__init__(reduction)\n",
    "        self.abs = ops.abs\n",
    "\n",
    "    def construct(self, base, target1, target2):\n",
    "        # 计算第一个标签的误差\n",
    "        x1 = self.abs(base - target1)\n",
    "        # 计算第二个标签的误差\n",
    "        x2 = self.abs(base - target2)\n",
    "        # 将两误差取平均后作为最终的损失函数值                           \n",
    "        return (self.get_loss(x1) + self.get_loss(x2))/2        "
   ]
  },
  {
   "attachments": {},
   "cell_type": "markdown",
   "metadata": {},
   "source": [
    "### 5.2 定义损失函数\n",
    "使用 Model 关联指定的前向网络、损失函数和优化器时，因 Model 内默认使用的 nn.WithLossCell 只接受两个输入： data 和 label ，故不适用于多标签场景。在多标签场景下，若想使用 Model 进行模型训练，则需事先把前向网络与多标签损失函数关联起来，即自定义损失网络。"
   ]
  },
  {
   "cell_type": "code",
   "execution_count": 3,
   "metadata": {},
   "outputs": [],
   "source": [
    "# 自定义损失网络\n",
    "class CustomWithLossCell(nn.Cell):\n",
    "    def __init__(self, backbone, loss_fn):\n",
    "        super(CustomWithLossCell, self).__init__(auto_prefix=False)\n",
    "        self._backbone = backbone\n",
    "        self._loss_fn = loss_fn\n",
    "\n",
    "    def construct(self, data, label1, label2):\n",
    "        output = self._backbone(data)\n",
    "        return self._loss_fn(output, label1, label2)"
   ]
  },
  {
   "attachments": {},
   "cell_type": "markdown",
   "metadata": {},
   "source": [
    "### 5.3 定义网络模型\n",
    "定义线性回归网络。"
   ]
  },
  {
   "cell_type": "code",
   "execution_count": 4,
   "metadata": {},
   "outputs": [],
   "source": [
    "from mindspore.common.initializer import Normal\n",
    "import mindspore.ops as ops\n",
    "from mindspore.train import LossMonitor\n",
    "# 定义线性回归网络\n",
    "class LinearNet(nn.Cell):\n",
    "    def __init__(self):\n",
    "        super(LinearNet, self).__init__()\n",
    "        self.fc = nn.Dense(1, 1, Normal(0.02), Normal(0.02))\n",
    "\n",
    "    def construct(self, x):\n",
    "        return self.fc(x)"
   ]
  },
  {
   "attachments": {},
   "cell_type": "markdown",
   "metadata": {},
   "source": [
    "## 6、模型训练\n",
    "定义多标签损失函数、损失网络和优化器，并开始模型的训练。"
   ]
  },
  {
   "cell_type": "code",
   "execution_count": 5,
   "metadata": {},
   "outputs": [
    {
     "name": "stdout",
     "output_type": "stream",
     "text": [
      "Epoch 1, Batch 0, Loss: 9.429060\n",
      "Epoch 2, Batch 0, Loss: 8.179510\n",
      "Epoch 3, Batch 0, Loss: 8.760202\n",
      "Epoch 4, Batch 0, Loss: 2.357105\n",
      "Epoch 5, Batch 0, Loss: 7.147015\n",
      "Epoch 6, Batch 0, Loss: 2.786749\n",
      "Epoch 7, Batch 0, Loss: 3.033732\n",
      "Epoch 8, Batch 0, Loss: 3.877007\n",
      "Epoch 9, Batch 0, Loss: 2.077415\n",
      "Epoch 10, Batch 0, Loss: 2.065394\n",
      "Epoch 11, Batch 0, Loss: 2.833567\n",
      "Epoch 12, Batch 0, Loss: 2.452950\n",
      "Epoch 13, Batch 0, Loss: 1.935552\n",
      "Epoch 14, Batch 0, Loss: 2.066907\n",
      "Epoch 15, Batch 0, Loss: 1.795988\n",
      "Epoch 16, Batch 0, Loss: 1.831659\n",
      "Epoch 17, Batch 0, Loss: 1.632315\n",
      "Epoch 18, Batch 0, Loss: 1.597414\n",
      "Epoch 19, Batch 0, Loss: 1.825572\n",
      "Epoch 20, Batch 0, Loss: 2.015487\n",
      "Epoch 21, Batch 0, Loss: 1.899485\n",
      "Epoch 22, Batch 0, Loss: 1.713481\n",
      "Epoch 23, Batch 0, Loss: 1.767226\n",
      "Epoch 24, Batch 0, Loss: 1.028347\n",
      "Epoch 25, Batch 0, Loss: 1.263228\n",
      "Epoch 26, Batch 0, Loss: 1.454922\n",
      "Epoch 27, Batch 0, Loss: 1.582591\n",
      "Epoch 28, Batch 0, Loss: 0.955171\n",
      "Epoch 29, Batch 0, Loss: 1.584016\n",
      "Epoch 30, Batch 0, Loss: 1.106097\n",
      "Epoch 31, Batch 0, Loss: 1.289323\n",
      "Epoch 32, Batch 0, Loss: 1.085377\n",
      "Epoch 33, Batch 0, Loss: 1.071547\n",
      "Epoch 34, Batch 0, Loss: 1.860974\n",
      "Epoch 35, Batch 0, Loss: 1.043385\n",
      "Epoch 36, Batch 0, Loss: 1.073837\n",
      "Epoch 37, Batch 0, Loss: 1.186126\n",
      "Epoch 38, Batch 0, Loss: 1.402039\n",
      "Epoch 39, Batch 0, Loss: 1.309368\n",
      "Epoch 40, Batch 0, Loss: 0.937246\n",
      "Epoch 41, Batch 0, Loss: 0.992327\n",
      "Epoch 42, Batch 0, Loss: 0.909697\n",
      "Epoch 43, Batch 0, Loss: 1.515682\n",
      "Epoch 44, Batch 0, Loss: 1.207556\n",
      "Epoch 45, Batch 0, Loss: 1.055467\n",
      "Epoch 46, Batch 0, Loss: 0.941929\n",
      "Epoch 47, Batch 0, Loss: 0.933691\n",
      "Epoch 48, Batch 0, Loss: 1.344767\n",
      "Epoch 49, Batch 0, Loss: 0.917196\n",
      "Epoch 50, Batch 0, Loss: 1.054141\n"
     ]
    }
   ],
   "source": [
    "\n",
    "ds_train = create_multilabel_dataset(num_data=160)\n",
    "net = LinearNet()\n",
    "# 定义多标签损失函数\n",
    "loss_fn= MAELossForMultiLabel()\n",
    "# 定义损失网络，连接前向网络和多标签损失函数\n",
    "loss_net = CustomWithLossCell(net, loss_fn)\n",
    "# 定义优化器\n",
    "opt = nn.Momentum(net.trainable_params(), learning_rate=0.005, momentum=0.9)\n",
    "\n",
    "import mindspore\n",
    "from mindspore.common.initializer import Normal\n",
    "import mindspore.ops as ops\n",
    "from mindspore.train import LossMonitor\n",
    "\n",
    "\n",
    "# 1. 定义前向计算函数\n",
    "def forward_fn(data, label1, label2):\n",
    "    logits = net(data)  # 前向计算\n",
    "    loss = loss_net(logits, label1, label2)  # 计算损失\n",
    "    return loss, logits\n",
    "\n",
    "# 2. 获取梯度计算函数\n",
    "grad_fn = mindspore.value_and_grad(forward_fn, None, opt.parameters, has_aux=True)\n",
    "\n",
    "# 3. 定义单步训练函数\n",
    "def train_step(data, label1, label2):\n",
    "    (loss, _), grads = grad_fn(data, label1, label2)  # 梯度计算\n",
    "    opt(grads)  # 更新参数\n",
    "    return loss\n",
    "\n",
    "# 4. 自定义训练函数\n",
    "def train(dataset, net, epochs=10):\n",
    "    size = dataset.get_dataset_size()\n",
    "    net.set_train()  # 设置为训练模式\n",
    "    for epoch in range(epochs):\n",
    "        for batch, (data, label1, label2) in enumerate(dataset.create_tuple_iterator()):\n",
    "            loss = train_step(data, label1, label2)\n",
    "            \n",
    "            if batch % 10 == 0:  # 每10个batch打印一次\n",
    "                loss_value = loss.asnumpy()\n",
    "                print(f\"Epoch {epoch + 1}, Batch {batch}, Loss: {loss_value:.6f}\")\n",
    "\n",
    "train(ds_train, net, epochs=50)\n"
   ]
  },
  {
   "attachments": {},
   "cell_type": "markdown",
   "metadata": {},
   "source": [
    "## 7、模型预测\n",
    "使用模型进行预测。"
   ]
  },
  {
   "cell_type": "code",
   "execution_count": 6,
   "metadata": {},
   "outputs": [
    {
     "name": "stdout",
     "output_type": "stream",
     "text": [
      "data:[[-4.39113002]]\n",
      "predict result:[[[1.0748081]]]\n",
      "true result1:[[-5.78226003]]\n",
      "true result2:[[-5.78226003]]\n"
     ]
    }
   ],
   "source": [
    "from mindspore import Tensor,context\n",
    "import numpy as np\n",
    "\n",
    "# 生成测试数据\n",
    "w=2.0\n",
    "b=3.0\n",
    "x = np.random.uniform(-10.0, 10.0, (1,1))\n",
    "x1 = np.array([x]).astype(np.float32)\n",
    "# 确保网络处于推理模式（非必须，但好的习惯）\n",
    "context.set_context(mode=context.GRAPH_MODE)  \n",
    "#模型测试\n",
    "test_result = net(Tensor(x1))\n",
    "# 定义第一个标签\n",
    "true_result1 = x * w + b      \n",
    "# 定义第二个标签\n",
    "true_result2 = x * w + b            \n",
    "print('data:' + '%s'%x)\n",
    "print('predict result:' + '%s'%test_result)\n",
    "print('true result1:' + '%s'%true_result1)\n",
    "print('true result2:' + '%s'%true_result2)"
   ]
  },
  {
   "cell_type": "code",
   "execution_count": null,
   "metadata": {},
   "outputs": [],
   "source": []
  }
 ],
 "metadata": {
  "kernelspec": {
   "display_name": "Python 3 (ipykernel)",
   "language": "python",
   "name": "python3"
  },
  "language_info": {
   "codemirror_mode": {
    "name": "ipython",
    "version": 3
   },
   "file_extension": ".py",
   "mimetype": "text/x-python",
   "name": "python",
   "nbconvert_exporter": "python",
   "pygments_lexer": "ipython3",
   "version": "3.11.11"
  },
  "vscode": {
   "interpreter": {
    "hash": "31f2aee4e71d21fbe5cf8b01ff0e069b9275f58929596ceb00d14d90e3e16cd6"
   }
  }
 },
 "nbformat": 4,
 "nbformat_minor": 4
}
