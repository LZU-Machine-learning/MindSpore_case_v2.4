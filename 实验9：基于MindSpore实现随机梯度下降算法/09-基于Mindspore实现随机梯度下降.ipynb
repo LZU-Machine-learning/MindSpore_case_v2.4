{
 "cells": [
  {
   "cell_type": "markdown",
   "id": "a2095277-7c23-47d6-b2bc-a147f8fd013e",
   "metadata": {},
   "source": [
    "# 09. 基于MindSpore实现随机梯度下降"
   ]
  },
  {
   "cell_type": "markdown",
   "id": "a6037552",
   "metadata": {},
   "source": [
    "本实验主要介绍使用MindSpore开发随机梯度下降算法，并使用自定义数据训练和测试模型。"
   ]
  },
  {
   "cell_type": "markdown",
   "id": "cb0acba4",
   "metadata": {},
   "source": [
    "## 1、实验目的"
   ]
  },
  {
   "cell_type": "markdown",
   "id": "eb8a787a",
   "metadata": {},
   "source": [
    "- 了解并掌握随机梯度下降算法的原理。\n",
    "- 掌握如何使用MindSpore进行随机梯度下降算法的开发。"
   ]
  },
  {
   "cell_type": "markdown",
   "id": "0ed89de8",
   "metadata": {},
   "source": [
    "## 2、随机梯度下降算法原理介绍"
   ]
  },
  {
   "cell_type": "markdown",
   "id": "e202763d",
   "metadata": {},
   "source": [
    "对于线性回归目标，使用最小二乘计算的损失函数：\n",
    "\n",
    "$$J_{linreg}(\\Theta)=J_{linreg}(w,b)=\\frac{1}{n}\\sum_{i=1}^{n}(w^Tx^{(i)}+b-y_i)^2$$\n",
    "随机梯度下降算法是对标准下降算法的改进。为了后面计算起来简单，用$\\Theta$表示w,b两个参数，或者用$\\Theta$表示线性回归中所有的参数。\n",
    "$$f(\\Theta)=\\frac{1}{n}\\sum_{i=1}^{n}f_i(\\Theta)$$\n",
    "随机梯度下降的算法简写成SGD（Stochastic Gradient Descent），标准的梯度下降简称GD。其算法基本流程是：先对所有参数初始化。然后循环T次，每次从n个训练数据中随机抽取一个样本进行训练（可重复抽样）。训练按如下公式进行：\n",
    "$$\\Theta^{(t)}=\\Theta^{(t-1)}-\\eta(t)\\nabla_{\\Theta}f_i(\\Theta^{(t-1)})$$\n",
    "随机梯度下降与标准的梯度下降的区别在于两点：\n",
    "1. 标准梯度下降的步长（$\\eta$）是固定的，而随机梯度下降的步长是次数t的函数。\n",
    "2. 标准梯度下降是对不同的点全部计算一遍，随机梯度下降是每次随机选取第i个样本进行训练。因此，每次随机梯度下降运算的结果可能不完全一样。\n",
    "随机梯度下降常与小批量一同使用。批量算法是每次选一个mini batch 对其进行梯度下降，是对随机梯度下降的一点改进。标准梯度下降算法是每一步更新所有数据，再求平均。随机梯度下降只是选定一个点或者一小批量求它的梯度，效率比原来高。"
   ]
  },
  {
   "cell_type": "markdown",
   "id": "5b09488d",
   "metadata": {},
   "source": [
    "## 3、实验环境\n"
   ]
  },
  {
   "cell_type": "markdown",
   "id": "a1d6fc26",
   "metadata": {},
   "source": [
    "在动手进行实践之前，需要注意以下几点：\n",
    "* 确保实验环境正确安装，包括安装MindSpore。安装过程：首先登录[MindSpore官网安装页面](https://www.mindspore.cn/install)，根据安装指南下载安装包及查询相关文档。同时，官网环境安装也可以按下表说明找到对应环境搭建文档链接，根据环境搭建手册配置对应的实验环境。\n",
    "* 推荐使用交互式的计算环境Jupyter Notebook，其交互性强，易于可视化，适合频繁修改的数据分析实验环境。\n",
    "* 实验也可以在华为云一站式的AI开发平台ModelArts上完成。\n",
    "* 推荐实验环境：MindSpore版本=2.4；Python环境=3.11。\n",
    "\n",
    "\n",
    "|  硬件平台 |  操作系统  | 软件环境 | 开发环境 | 环境搭建链接 |\n",
    "| :-----:| :----: | :----: |:----:   |:----:   |\n",
    "| CPU | Windows-x64 | MindSpore2.4 Python3.11 | JupyterNotebook |[MindSpore环境搭建实验手册第二章2.1节和第三章3.1节](./MindSpore环境搭建实验手册.docx)|\n",
    "| GPU CUDA 10.1|Linux-x86_64| MindSpore2.4 Python3.11 | JupyterNotebook |[MindSpore环境搭建实验手册第二章2.2节和第三章3.1节](./MindSpore环境搭建实验手册.docx)|\n",
    "| Ascend 910  | Linux-x86_64| MindSpore2.4 Python3.11 | JupyterNotebook |[MindSpore环境搭建实验手册第四章](./MindSpore环境搭建实验手册.docx)|"
   ]
  },
  {
   "cell_type": "markdown",
   "id": "2c5fefbb",
   "metadata": {},
   "source": [
    "## 4、数据处理"
   ]
  },
  {
   "cell_type": "markdown",
   "id": "27b80680",
   "metadata": {},
   "source": [
    "### 4.1数据准备"
   ]
  },
  {
   "cell_type": "markdown",
   "id": "c6f85ad9",
   "metadata": {},
   "source": [
    "数据为自定义数据：x、y。\n",
    "x、y均是MindSpore中的Tensor类。\n",
    "x为所有数据在第一个维度上的值，y为所有数据在第二个维度上的值。\n",
    "$$\\begin{array}{l}\n",
    "x=[55,71,68,87,101,87,75,78,93,73]\\\\\n",
    "y=[91,101,87,109,129,98,95,101,104,93]\\\\\n",
    "\\end{array}\n",
    "$$"
   ]
  },
  {
   "cell_type": "markdown",
   "id": "a16a1556",
   "metadata": {},
   "source": [
    "### 4.2数据加载"
   ]
  },
  {
   "cell_type": "markdown",
   "id": "bc76883f",
   "metadata": {},
   "source": [
    "x、y均是MindSpore中的Tensor类。\n",
    "x为所有数据在第一个维度上的值，y为所有数据在第二个维度上的值。"
   ]
  },
  {
   "cell_type": "code",
   "execution_count": 1,
   "id": "066fce23",
   "metadata": {},
   "outputs": [],
   "source": [
    "# 导入库\n",
    "# 科学计算库\n",
    "import numpy as np\n",
    "# 绘图\n",
    "import matplotlib.pyplot as plt\n",
    "# 张量\n",
    "from mindspore import Tensor\n",
    "import mindspore.ops as ops"
   ]
  },
  {
   "cell_type": "code",
   "execution_count": 2,
   "id": "c295650f",
   "metadata": {},
   "outputs": [],
   "source": [
    "x = np.array([55, 71, 68, 87, 101, 87, 75, 78, 93, 73])\n",
    "y = np.array([91, 101, 87, 109, 129, 98, 95, 101, 104, 93])\n",
    "# 将数据转换为Tensor类\n",
    "x = Tensor(x.astype(np.float32))\n",
    "y = Tensor(y.astype(np.float32))"
   ]
  },
  {
   "cell_type": "markdown",
   "id": "b9472e91",
   "metadata": {},
   "source": [
    "## 5、模型构建"
   ]
  },
  {
   "cell_type": "markdown",
   "id": "14e5d154",
   "metadata": {},
   "source": [
    "设置超参数"
   ]
  },
  {
   "cell_type": "code",
   "execution_count": 3,
   "id": "2351f661",
   "metadata": {},
   "outputs": [],
   "source": [
    "lr = 0.0001    #学习率\n",
    "num_iter = 100 #迭代次数"
   ]
  },
  {
   "cell_type": "markdown",
   "id": "cfe2c14c-54f4-4ac9-86de-f60794c3a2b0",
   "metadata": {},
   "source": [
    "直接算出线性回归解析解。"
   ]
  },
  {
   "cell_type": "code",
   "execution_count": 4,
   "id": "7168e61b-9b2d-475b-8ceb-c9987133a62d",
   "metadata": {},
   "outputs": [],
   "source": [
    "# 求解析解\n",
    "# x：所有数据在第一个维度上的值\n",
    "# y：所有数据在第二个维度上的值\n",
    "def ols_algebra(x, y):\n",
    "    n = len(x)\n",
    "    # w1：一次项系数\n",
    "    w1 = (n * ops.sum(x * y) - ops.sum(x) * ops.sum(y)) / (n * ops.sum(x * x) - ops.sum(x) * ops.sum(x))\n",
    "    # w0：偏差\n",
    "    w0 = (ops.sum(x * x) * ops.sum(y) - ops.sum(x) * ops.sum(x * y)) / (n * ops.sum(x * x) - ops.sum(x) * ops.sum(x))\n",
    "    \n",
    "    return w1, w0"
   ]
  },
  {
   "cell_type": "markdown",
   "id": "2cffbf2c-1051-4079-aa7c-f573144ed15b",
   "metadata": {},
   "source": [
    "通过最小二乘法定义梯度下降的算法过程。"
   ]
  },
  {
   "cell_type": "code",
   "execution_count": 5,
   "id": "b99e7496-c7c6-4097-ae46-ad0c824c7329",
   "metadata": {},
   "outputs": [],
   "source": [
    "# x：所有数据在第一个维度上的值\n",
    "# y：所有数据在第二个维度上的值\n",
    "# lr：学习率\n",
    "# num_iter:迭代次数\n",
    "def ols_gradient_descent(x, y, lr, num_iter):\n",
    "    w1 = 0\n",
    "    w0 = 0\n",
    "    N = x.size\n",
    "    for j in range(num_iter):\n",
    "        for i in range(N):\n",
    "            y_hat = (w1 * x[i]) + w0\n",
    "            w1_gradient = -2 * (x[i] * (y[i] - y_hat))\n",
    "            w0_gradient = -2 * (y[i] - y_hat)\n",
    "            # w1：一次项系数\n",
    "            w1 -= lr * w1_gradient\n",
    "            # w0：偏差\n",
    "            w0 -= lr * w0_gradient\n",
    "    return w1, w0"
   ]
  },
  {
   "cell_type": "markdown",
   "id": "b2e9d25a",
   "metadata": {},
   "source": [
    "## 6、模型训练"
   ]
  },
  {
   "cell_type": "markdown",
   "id": "4830a719-8996-4c2f-8518-e572405743d5",
   "metadata": {},
   "source": [
    "将数据带入解析解函数和随机梯度下降算法得到经过解析和最小二乘得到最终结果（两种算法得出的一次项系数和偏差）。"
   ]
  },
  {
   "cell_type": "code",
   "execution_count": 6,
   "id": "3ede3073-bc74-4cec-855d-e8b5aadcece6",
   "metadata": {},
   "outputs": [],
   "source": [
    "# 解析解结果\n",
    "w1, w0 = ols_algebra(x, y)\n",
    "# 随机梯度下降结果\n",
    "w1_, w0_ = ols_gradient_descent(x, y, lr = lr, num_iter = num_iter)"
   ]
  },
  {
   "cell_type": "markdown",
   "id": "a60622dc",
   "metadata": {},
   "source": [
    "两种方法训练集的预测结果和平方误差"
   ]
  },
  {
   "cell_type": "code",
   "execution_count": 7,
   "id": "7327ef84",
   "metadata": {},
   "outputs": [
    {
     "name": "stdout",
     "output_type": "stream",
     "text": [
      "解析解训练集预测结果： [ 83.722     95.20301   93.05032  106.68402  116.7299   106.68402\n",
      "  98.07326  100.22595  110.989395  96.63814 ]\n",
      "解析解训练集预测平方误差： [ 52.969284    33.605087    36.606415     5.3637586  150.55544\n",
      "  75.412224     9.444911     0.59915006  48.851643    13.236047  ]\n",
      "随机梯度下降训练集预测结果： [ 71.15283   91.785904  87.9172   112.41897  130.4729   112.41897\n",
      "  96.94417  100.81287  120.156364  94.365036]\n",
      "随机梯度下降训练集预测平方误差： [3.9391006e+02 8.4899567e+01 8.4125251e-01 1.1689343e+01 2.1694355e+00\n",
      " 2.0790665e+02 3.7797894e+00 3.5019055e-02 2.6102811e+02 1.8633233e+00]\n"
     ]
    }
   ],
   "source": [
    "y_hat_Analyse_train = x * w1 + w0\n",
    "print(\"解析解训练集预测结果：\", y_hat_Analyse_train)\n",
    "L_Analyse_train = (y - y_hat_Analyse_train) ** 2\n",
    "print(\"解析解训练集预测平方误差：\", L_Analyse_train)\n",
    "\n",
    "y_hat_SGD_train = x * w1_ + w0_\n",
    "print(\"随机梯度下降训练集预测结果：\", y_hat_SGD_train)\n",
    "L_SGD_train = (y - y_hat_SGD_train) ** 2\n",
    "print(\"随机梯度下降训练集预测平方误差：\", L_SGD_train)"
   ]
  },
  {
   "cell_type": "markdown",
   "id": "a4752b2c",
   "metadata": {},
   "source": [
    "## 7、模型预测"
   ]
  },
  {
   "cell_type": "markdown",
   "id": "95744beb",
   "metadata": {},
   "source": [
    "使用plot函数对梯度下降结果进行绘图"
   ]
  },
  {
   "cell_type": "code",
   "execution_count": 8,
   "id": "0fc07e7e",
   "metadata": {},
   "outputs": [],
   "source": [
    "# 画图\n",
    "# w1：解析解函数得出的一次项系数\n",
    "# w0：解析解函数得出的偏差\n",
    "# w1_：随机梯度下降算法得出的一次项系数\n",
    "# w0_：随机梯度下降算法得出的偏差\n",
    "# x：数据在第一个维度上的值\n",
    "# y：数据在第二个维度上的值\n",
    "# 要求画出两张图，第一张图上是数据散点图和y=w0*x+w1的图像，第二张图是数据散点图和y=w0_*x+w1_的图像\n",
    "def plot_pic(w1, w0, w1_, w0_, x, y):\n",
    "    fig, axes = plt.subplots(1, 2, figsize=(15,5))\n",
    "    w1 = w1.asnumpy()\n",
    "    w0 = w0.asnumpy()\n",
    "    w1_ = w1_.asnumpy()\n",
    "    w0_ = w0_.asnumpy()\n",
    "    x = x.asnumpy()\n",
    "    y = y.asnumpy()\n",
    "    # 解析解的图\n",
    "    axes[0].scatter(x, y)\n",
    "    axes[0].plot(np.array([50, 110]), np.array([50, 110]) * w1 + w0, 'r')\n",
    "    axes[0].set_title('OLS')\n",
    "    # 随机梯度下降的图\n",
    "    axes[1].scatter(x, y)\n",
    "    axes[1].plot(np.array([50, 110]), np.array([50, 110]) * w1_ + w0_, 'r')\n",
    "    axes[1].set_title('Gradient descent')\n",
    "\n",
    "    plt.show()"
   ]
  },
  {
   "cell_type": "markdown",
   "id": "39f0970e",
   "metadata": {},
   "source": [
    "显示结果。"
   ]
  },
  {
   "cell_type": "code",
   "execution_count": 9,
   "id": "fe7edc57",
   "metadata": {},
   "outputs": [
    {
     "name": "stdout",
     "output_type": "stream",
     "text": [
      "0.7175629\n",
      "44.256042\n",
      "1.2895666\n",
      "0.2266687\n"
     ]
    },
    {
     "data": {
      "image/png": "[encoded data removed]",
      "text/plain": [
       "<Figure size 1500x500 with 2 Axes>"
      ]
     },
     "metadata": {},
     "output_type": "display_data"
    }
   ],
   "source": [
    "print(w1)  # w1：解析解函数得出的一次项系数\n",
    "print(w0)  # w0：解析解函数得出的偏差\n",
    "print(w1_) # w1_：随机梯度下降算法得出的一次项系数\n",
    "print(w0_) # w0_：随机梯度下降算法得出的偏差\n",
    "plot_pic(w1, w0, w1_, w0_, x, y)# 绘出两种算法的结果的图像"
   ]
  },
  {
   "cell_type": "markdown",
   "id": "a0e63414",
   "metadata": {},
   "source": [
    "对于一个数据(92,100)计算其在两种算法下的平方误差。"
   ]
  },
  {
   "cell_type": "code",
   "execution_count": 10,
   "id": "1a93e9f3",
   "metadata": {},
   "outputs": [
    {
     "name": "stdout",
     "output_type": "stream",
     "text": [
      "对于（92，100）数据\n",
      "\n",
      "解析解方法预测值： 110.27183  其平方误差为： 105.510445 \n",
      "\n",
      "随机梯度下降方法预测值： 118.8668  其平方误差为： 355.9561 \n",
      "\n"
     ]
    }
   ],
   "source": [
    "#  测试数据\n",
    "test_x = 92\n",
    "test_y = 100\n",
    "# 解析解预测值\n",
    "y_hat_Analyse = w1 * test_x + w0\n",
    "# 随机梯度下降预测值\n",
    "y_hat_SGD = w1_ * test_x + w0_\n",
    "# 解析解方法平方误差\n",
    "L_Analyse = (y_hat_Analyse - test_y) ** 2\n",
    "# 随机梯度下降平方误差\n",
    "L_SGD = (y_hat_SGD - test_y) ** 2\n",
    "\n",
    "print(\"对于（92，100）数据\\n\")\n",
    "print(\"解析解方法预测值：\",y_hat_Analyse,\" 其平方误差为：\",L_Analyse,\"\\n\")\n",
    "print(\"随机梯度下降方法预测值：\",y_hat_SGD,\" 其平方误差为：\",L_SGD,\"\\n\")"
   ]
  }
 ],
 "metadata": {
  "kernelspec": {
   "display_name": "Python 3 (ipykernel)",
   "language": "python",
   "name": "python3"
  },
  "language_info": {
   "codemirror_mode": {
    "name": "ipython",
    "version": 3
   },
   "file_extension": ".py",
   "mimetype": "text/x-python",
   "name": "python",
   "nbconvert_exporter": "python",
   "pygments_lexer": "ipython3",
   "version": "3.11.11"
  },
  "vscode": {
   "interpreter": {
    "hash": "5ae58900cfbb8c43ab3495913814b7cf26024f51651a94ce8bf64d6111688e8d"
   }
  }
 },
 "nbformat": 4,
 "nbformat_minor": 5
}
